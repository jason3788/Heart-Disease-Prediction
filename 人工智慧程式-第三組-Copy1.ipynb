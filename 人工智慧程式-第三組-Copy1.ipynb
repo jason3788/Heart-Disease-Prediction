{
 "cells": [
  {
   "cell_type": "code",
   "execution_count": 99,
   "metadata": {
    "id": "DhNkav1yixuF"
   },
   "outputs": [],
   "source": [
    "import pandas as pd\n",
    "import numpy as np\n",
    "import matplotlib.pyplot as plt\n",
    "import seaborn as sns\n",
    "import plotly.express as px\n",
    "import plotly.graph_objects as go\n",
    "from plotly.subplots import make_subplots\n",
    "from sklearn.pipeline import make_pipeline\n",
    "from sklearn.model_selection import train_test_split\n",
    "from sklearn.preprocessing import LabelEncoder\n",
    "from imblearn.over_sampling import SMOTE\n",
    "from imblearn.under_sampling import RandomUnderSampler\n",
    "from sklearn.feature_selection import SelectFromModel\n",
    "from sklearn.metrics import confusion_matrix\n",
    "from imblearn.under_sampling import RandomUnderSampler\n",
    "from sklearn.linear_model import LogisticRegression\n",
    "from xgboost import XGBClassifier\n",
    "from sklearn.model_selection import cross_val_score\n",
    "from sklearn.metrics import roc_auc_score\n",
    "from collections import Counter\n",
    "from sklearn.metrics import accuracy_score, precision_score, recall_score, f1_score"
   ]
  },
  {
   "cell_type": "code",
   "execution_count": 100,
   "metadata": {
    "colab": {
     "base_uri": "https://localhost:8080/",
     "height": 268
    },
    "id": "-So5Cefki9pL",
    "outputId": "65d923c0-3a91-4c22-8662-4f1f327c75d3"
   },
   "outputs": [
    {
     "data": {
      "text/html": [
       "<div>\n",
       "<style scoped>\n",
       "    .dataframe tbody tr th:only-of-type {\n",
       "        vertical-align: middle;\n",
       "    }\n",
       "\n",
       "    .dataframe tbody tr th {\n",
       "        vertical-align: top;\n",
       "    }\n",
       "\n",
       "    .dataframe thead th {\n",
       "        text-align: right;\n",
       "    }\n",
       "</style>\n",
       "<table border=\"1\" class=\"dataframe\">\n",
       "  <thead>\n",
       "    <tr style=\"text-align: right;\">\n",
       "      <th></th>\n",
       "      <th>age</th>\n",
       "      <th>sex</th>\n",
       "      <th>cp</th>\n",
       "      <th>trtbps</th>\n",
       "      <th>chol</th>\n",
       "      <th>fbs</th>\n",
       "      <th>restecg</th>\n",
       "      <th>thalachh</th>\n",
       "      <th>exng</th>\n",
       "      <th>oldpeak</th>\n",
       "      <th>slp</th>\n",
       "      <th>caa</th>\n",
       "      <th>thall</th>\n",
       "      <th>output</th>\n",
       "    </tr>\n",
       "  </thead>\n",
       "  <tbody>\n",
       "    <tr>\n",
       "      <th>0</th>\n",
       "      <td>63</td>\n",
       "      <td>1</td>\n",
       "      <td>3</td>\n",
       "      <td>145</td>\n",
       "      <td>233</td>\n",
       "      <td>1</td>\n",
       "      <td>0</td>\n",
       "      <td>150</td>\n",
       "      <td>0</td>\n",
       "      <td>2.3</td>\n",
       "      <td>0</td>\n",
       "      <td>0</td>\n",
       "      <td>1</td>\n",
       "      <td>1</td>\n",
       "    </tr>\n",
       "    <tr>\n",
       "      <th>1</th>\n",
       "      <td>37</td>\n",
       "      <td>1</td>\n",
       "      <td>2</td>\n",
       "      <td>130</td>\n",
       "      <td>250</td>\n",
       "      <td>0</td>\n",
       "      <td>1</td>\n",
       "      <td>187</td>\n",
       "      <td>0</td>\n",
       "      <td>3.5</td>\n",
       "      <td>0</td>\n",
       "      <td>0</td>\n",
       "      <td>2</td>\n",
       "      <td>1</td>\n",
       "    </tr>\n",
       "    <tr>\n",
       "      <th>2</th>\n",
       "      <td>41</td>\n",
       "      <td>0</td>\n",
       "      <td>1</td>\n",
       "      <td>130</td>\n",
       "      <td>204</td>\n",
       "      <td>0</td>\n",
       "      <td>0</td>\n",
       "      <td>172</td>\n",
       "      <td>0</td>\n",
       "      <td>1.4</td>\n",
       "      <td>2</td>\n",
       "      <td>0</td>\n",
       "      <td>2</td>\n",
       "      <td>1</td>\n",
       "    </tr>\n",
       "    <tr>\n",
       "      <th>3</th>\n",
       "      <td>56</td>\n",
       "      <td>1</td>\n",
       "      <td>1</td>\n",
       "      <td>120</td>\n",
       "      <td>236</td>\n",
       "      <td>0</td>\n",
       "      <td>1</td>\n",
       "      <td>178</td>\n",
       "      <td>0</td>\n",
       "      <td>0.8</td>\n",
       "      <td>2</td>\n",
       "      <td>0</td>\n",
       "      <td>2</td>\n",
       "      <td>1</td>\n",
       "    </tr>\n",
       "    <tr>\n",
       "      <th>4</th>\n",
       "      <td>57</td>\n",
       "      <td>0</td>\n",
       "      <td>0</td>\n",
       "      <td>120</td>\n",
       "      <td>354</td>\n",
       "      <td>0</td>\n",
       "      <td>1</td>\n",
       "      <td>163</td>\n",
       "      <td>1</td>\n",
       "      <td>0.6</td>\n",
       "      <td>2</td>\n",
       "      <td>0</td>\n",
       "      <td>2</td>\n",
       "      <td>1</td>\n",
       "    </tr>\n",
       "  </tbody>\n",
       "</table>\n",
       "</div>"
      ],
      "text/plain": [
       "   age  sex  cp  trtbps  chol  fbs  restecg  thalachh  exng  oldpeak  slp  \\\n",
       "0   63    1   3     145   233    1        0       150     0      2.3    0   \n",
       "1   37    1   2     130   250    0        1       187     0      3.5    0   \n",
       "2   41    0   1     130   204    0        0       172     0      1.4    2   \n",
       "3   56    1   1     120   236    0        1       178     0      0.8    2   \n",
       "4   57    0   0     120   354    0        1       163     1      0.6    2   \n",
       "\n",
       "   caa  thall  output  \n",
       "0    0      1       1  \n",
       "1    0      2       1  \n",
       "2    0      2       1  \n",
       "3    0      2       1  \n",
       "4    0      2       1  "
      ]
     },
     "execution_count": 100,
     "metadata": {},
     "output_type": "execute_result"
    }
   ],
   "source": [
    "data = pd.read_csv('heart.csv')\n",
    "data.head()"
   ]
  },
  {
   "cell_type": "code",
   "execution_count": 101,
   "metadata": {},
   "outputs": [
    {
     "data": {
      "text/plain": [
       "(303, 14)"
      ]
     },
     "execution_count": 101,
     "metadata": {},
     "output_type": "execute_result"
    }
   ],
   "source": [
    "data.shape"
   ]
  },
  {
   "cell_type": "code",
   "execution_count": 102,
   "metadata": {},
   "outputs": [
    {
     "data": {
      "text/plain": [
       "1"
      ]
     },
     "execution_count": 102,
     "metadata": {},
     "output_type": "execute_result"
    }
   ],
   "source": [
    "data.duplicated().sum()"
   ]
  },
  {
   "cell_type": "code",
   "execution_count": 103,
   "metadata": {},
   "outputs": [],
   "source": [
    "data = data.drop_duplicates().reset_index(drop=True)"
   ]
  },
  {
   "cell_type": "code",
   "execution_count": 104,
   "metadata": {
    "colab": {
     "base_uri": "https://localhost:8080/"
    },
    "id": "fo_7_JBC461T",
    "outputId": "0c052036-d9dc-4c58-cee4-2b3e81f0aafc"
   },
   "outputs": [
    {
     "data": {
      "text/plain": [
       "age         0\n",
       "sex         0\n",
       "cp          0\n",
       "trtbps      0\n",
       "chol        0\n",
       "fbs         0\n",
       "restecg     0\n",
       "thalachh    0\n",
       "exng        0\n",
       "oldpeak     0\n",
       "slp         0\n",
       "caa         0\n",
       "thall       0\n",
       "output      0\n",
       "dtype: int64"
      ]
     },
     "execution_count": 104,
     "metadata": {},
     "output_type": "execute_result"
    }
   ],
   "source": [
    "data.isna().sum()"
   ]
  },
  {
   "cell_type": "code",
   "execution_count": 105,
   "metadata": {
    "colab": {
     "base_uri": "https://localhost:8080/"
    },
    "id": "yIJ5sp27BCaO",
    "outputId": "061fe82e-b002-48e7-8f1d-831492e6b9b2"
   },
   "outputs": [
    {
     "name": "stdout",
     "output_type": "stream",
     "text": [
      "age\n",
      "[63 37 41 56 57 44 52 54 48 49 64 58 50 66 43 69 59 42 61 40 71 51 65 53\n",
      " 46 45 39 47 62 34 35 29 55 60 67 68 74 76 70 38 77] \n",
      "\n",
      "sex\n",
      "[1 0] \n",
      "\n",
      "cp\n",
      "[3 2 1 0] \n",
      "\n",
      "trtbps\n",
      "[145 130 120 140 172 150 110 135 160 105 125 142 155 104 138 128 108 134\n",
      " 122 115 118 100 124  94 112 102 152 101 132 148 178 129 180 136 126 106\n",
      " 156 170 146 117 200 165 174 192 144 123 154 114 164] \n",
      "\n",
      "chol\n",
      "[233 250 204 236 354 192 294 263 199 168 239 275 266 211 283 219 340 226\n",
      " 247 234 243 302 212 175 417 197 198 177 273 213 304 232 269 360 308 245\n",
      " 208 264 321 325 235 257 216 256 231 141 252 201 222 260 182 303 265 309\n",
      " 186 203 183 220 209 258 227 261 221 205 240 318 298 564 277 214 248 255\n",
      " 207 223 288 160 394 315 246 244 270 195 196 254 126 313 262 215 193 271\n",
      " 268 267 210 295 306 178 242 180 228 149 278 253 342 157 286 229 284 224\n",
      " 206 167 230 335 276 353 225 330 290 172 305 188 282 185 326 274 164 307\n",
      " 249 341 407 217 174 281 289 322 299 300 293 184 409 259 200 327 237 218\n",
      " 319 166 311 169 187 176 241 131] \n",
      "\n",
      "fbs\n",
      "[1 0] \n",
      "\n",
      "restecg\n",
      "[0 1 2] \n",
      "\n",
      "thalachh\n",
      "[150 187 172 178 163 148 153 173 162 174 160 139 171 144 158 114 151 161\n",
      " 179 137 157 123 152 168 140 188 125 170 165 142 180 143 182 156 115 149\n",
      " 146 175 186 185 159 130 190 132 147 154 202 166 164 184 122 169 138 111\n",
      " 145 194 131 133 155 167 192 121  96 126 105 181 116 108 129 120 112 128\n",
      " 109 113  99 177 141 136  97 127 103 124  88 195 106  95 117  71 118 134\n",
      "  90] \n",
      "\n",
      "exng\n",
      "[0 1] \n",
      "\n",
      "oldpeak\n",
      "[2.3 3.5 1.4 0.8 0.6 0.4 1.3 0.  0.5 1.6 1.2 0.2 1.8 1.  2.6 1.5 3.  2.4\n",
      " 0.1 1.9 4.2 1.1 2.  0.7 0.3 0.9 3.6 3.1 3.2 2.5 2.2 2.8 3.4 6.2 4.  5.6\n",
      " 2.9 2.1 3.8 4.4] \n",
      "\n",
      "slp\n",
      "[0 2 1] \n",
      "\n",
      "caa\n",
      "[0 2 1 3 4] \n",
      "\n",
      "thall\n",
      "[1 2 3 0] \n",
      "\n",
      "output\n",
      "[1 0] \n",
      "\n"
     ]
    }
   ],
   "source": [
    "for feature in data.columns:  \n",
    "    print(feature)\n",
    "    print(data[feature].unique(),\"\\n\") "
   ]
  },
  {
   "cell_type": "code",
   "execution_count": 106,
   "metadata": {
    "colab": {
     "base_uri": "https://localhost:8080/"
    },
    "id": "BRCI_TtRc0Vv",
    "outputId": "13875ef6-515d-4c46-cc3b-d857e7f4e1ea"
   },
   "outputs": [
    {
     "name": "stdout",
     "output_type": "stream",
     "text": [
      "<class 'pandas.core.frame.DataFrame'>\n",
      "RangeIndex: 302 entries, 0 to 301\n",
      "Data columns (total 14 columns):\n",
      " #   Column    Non-Null Count  Dtype  \n",
      "---  ------    --------------  -----  \n",
      " 0   age       302 non-null    int64  \n",
      " 1   sex       302 non-null    int64  \n",
      " 2   cp        302 non-null    int64  \n",
      " 3   trtbps    302 non-null    int64  \n",
      " 4   chol      302 non-null    int64  \n",
      " 5   fbs       302 non-null    int64  \n",
      " 6   restecg   302 non-null    int64  \n",
      " 7   thalachh  302 non-null    int64  \n",
      " 8   exng      302 non-null    int64  \n",
      " 9   oldpeak   302 non-null    float64\n",
      " 10  slp       302 non-null    int64  \n",
      " 11  caa       302 non-null    int64  \n",
      " 12  thall     302 non-null    int64  \n",
      " 13  output    302 non-null    int64  \n",
      "dtypes: float64(1), int64(13)\n",
      "memory usage: 33.2 KB\n"
     ]
    }
   ],
   "source": [
    "data.info()"
   ]
  },
  {
   "cell_type": "code",
   "execution_count": 107,
   "metadata": {},
   "outputs": [
    {
     "data": {
      "text/plain": [
       "\"binary_columns = ['HeartDisease', 'Smoking', 'AlcoholDrinking', 'Stroke', 'DiffWalking', \\n          'PhysicalActivity', 'Asthma', 'KidneyDisease', 'SkinCancer']\\nfor column in binary_columns:\\n    data[column] = data[column].replace({'No': 0, 'Yes': 1})\""
      ]
     },
     "execution_count": 107,
     "metadata": {},
     "output_type": "execute_result"
    }
   ],
   "source": [
    "'''binary_columns = ['HeartDisease', 'Smoking', 'AlcoholDrinking', 'Stroke', 'DiffWalking', \n",
    "          'PhysicalActivity', 'Asthma', 'KidneyDisease', 'SkinCancer']\n",
    "for column in binary_columns:\n",
    "    data[column] = data[column].replace({'No': 0, 'Yes': 1})'''"
   ]
  },
  {
   "cell_type": "code",
   "execution_count": 108,
   "metadata": {},
   "outputs": [
    {
     "data": {
      "text/plain": [
       "\"def convert_range_to_mean(range_str):\\n    if 'or older' in range_str:\\n        return int(range_str.split()[0])\\n    else:\\n        range_values = range_str.split('-')\\n        return (int(range_values[0]) + int(range_values[1])) / 2\\n\\ndata['AgeCategory'] = data['AgeCategory'].apply(convert_range_to_mean)\""
      ]
     },
     "execution_count": 108,
     "metadata": {},
     "output_type": "execute_result"
    }
   ],
   "source": [
    "'''def convert_range_to_mean(range_str):\n",
    "    if 'or older' in range_str:\n",
    "        return int(range_str.split()[0])\n",
    "    else:\n",
    "        range_values = range_str.split('-')\n",
    "        return (int(range_values[0]) + int(range_values[1])) / 2\n",
    "\n",
    "data['AgeCategory'] = data['AgeCategory'].apply(convert_range_to_mean)'''"
   ]
  },
  {
   "cell_type": "code",
   "execution_count": 109,
   "metadata": {
    "id": "hbvhc6m_R9dU"
   },
   "outputs": [],
   "source": [
    "from sklearn.preprocessing import MinMaxScaler\n",
    "data_numeric_columns = ['age', 'trtbps', 'chol', 'thalachh','oldpeak']\n",
    "scaler = MinMaxScaler()\n",
    "data[data_numeric_columns] = scaler.fit_transform(data[data_numeric_columns])"
   ]
  },
  {
   "cell_type": "code",
   "execution_count": 110,
   "metadata": {},
   "outputs": [
    {
     "data": {
      "text/plain": [
       "\"GenHealth_mapping = {'Poor': 1, 'Fair': 2, 'Good': 3, 'Very good': 4, 'Excellent': 5}\\ndata['GenHealth'] = data['GenHealth'].map(GenHealth_mapping)\""
      ]
     },
     "execution_count": 110,
     "metadata": {},
     "output_type": "execute_result"
    }
   ],
   "source": [
    "'''GenHealth_mapping = {'Poor': 1, 'Fair': 2, 'Good': 3, 'Very good': 4, 'Excellent': 5}\n",
    "data['GenHealth'] = data['GenHealth'].map(GenHealth_mapping)'''"
   ]
  },
  {
   "cell_type": "code",
   "execution_count": 111,
   "metadata": {},
   "outputs": [
    {
     "data": {
      "text/plain": [
       "\"cols = ['Diabetic','Sex', 'Race']\\ndata[cols] = data[cols].apply(LabelEncoder().fit_transform)\""
      ]
     },
     "execution_count": 111,
     "metadata": {},
     "output_type": "execute_result"
    }
   ],
   "source": [
    "'''cols = ['Diabetic','Sex', 'Race']\n",
    "data[cols] = data[cols].apply(LabelEncoder().fit_transform)'''"
   ]
  },
  {
   "cell_type": "code",
   "execution_count": 112,
   "metadata": {
    "colab": {
     "base_uri": "https://localhost:8080/",
     "height": 491
    },
    "id": "UjUvR05BqxdG",
    "outputId": "5292073a-4efa-456e-8a52-8374fc6ab0ca"
   },
   "outputs": [
    {
     "data": {
      "text/html": [
       "<div>\n",
       "<style scoped>\n",
       "    .dataframe tbody tr th:only-of-type {\n",
       "        vertical-align: middle;\n",
       "    }\n",
       "\n",
       "    .dataframe tbody tr th {\n",
       "        vertical-align: top;\n",
       "    }\n",
       "\n",
       "    .dataframe thead th {\n",
       "        text-align: right;\n",
       "    }\n",
       "</style>\n",
       "<table border=\"1\" class=\"dataframe\">\n",
       "  <thead>\n",
       "    <tr style=\"text-align: right;\">\n",
       "      <th></th>\n",
       "      <th>age</th>\n",
       "      <th>sex</th>\n",
       "      <th>cp</th>\n",
       "      <th>trtbps</th>\n",
       "      <th>chol</th>\n",
       "      <th>fbs</th>\n",
       "      <th>restecg</th>\n",
       "      <th>thalachh</th>\n",
       "      <th>exng</th>\n",
       "      <th>oldpeak</th>\n",
       "      <th>slp</th>\n",
       "      <th>caa</th>\n",
       "      <th>thall</th>\n",
       "      <th>output</th>\n",
       "    </tr>\n",
       "  </thead>\n",
       "  <tbody>\n",
       "    <tr>\n",
       "      <th>0</th>\n",
       "      <td>0.708333</td>\n",
       "      <td>1</td>\n",
       "      <td>3</td>\n",
       "      <td>0.481132</td>\n",
       "      <td>0.244292</td>\n",
       "      <td>1</td>\n",
       "      <td>0</td>\n",
       "      <td>0.603053</td>\n",
       "      <td>0</td>\n",
       "      <td>0.370968</td>\n",
       "      <td>0</td>\n",
       "      <td>0</td>\n",
       "      <td>1</td>\n",
       "      <td>1</td>\n",
       "    </tr>\n",
       "    <tr>\n",
       "      <th>1</th>\n",
       "      <td>0.166667</td>\n",
       "      <td>1</td>\n",
       "      <td>2</td>\n",
       "      <td>0.339623</td>\n",
       "      <td>0.283105</td>\n",
       "      <td>0</td>\n",
       "      <td>1</td>\n",
       "      <td>0.885496</td>\n",
       "      <td>0</td>\n",
       "      <td>0.564516</td>\n",
       "      <td>0</td>\n",
       "      <td>0</td>\n",
       "      <td>2</td>\n",
       "      <td>1</td>\n",
       "    </tr>\n",
       "    <tr>\n",
       "      <th>2</th>\n",
       "      <td>0.250000</td>\n",
       "      <td>0</td>\n",
       "      <td>1</td>\n",
       "      <td>0.339623</td>\n",
       "      <td>0.178082</td>\n",
       "      <td>0</td>\n",
       "      <td>0</td>\n",
       "      <td>0.770992</td>\n",
       "      <td>0</td>\n",
       "      <td>0.225806</td>\n",
       "      <td>2</td>\n",
       "      <td>0</td>\n",
       "      <td>2</td>\n",
       "      <td>1</td>\n",
       "    </tr>\n",
       "    <tr>\n",
       "      <th>3</th>\n",
       "      <td>0.562500</td>\n",
       "      <td>1</td>\n",
       "      <td>1</td>\n",
       "      <td>0.245283</td>\n",
       "      <td>0.251142</td>\n",
       "      <td>0</td>\n",
       "      <td>1</td>\n",
       "      <td>0.816794</td>\n",
       "      <td>0</td>\n",
       "      <td>0.129032</td>\n",
       "      <td>2</td>\n",
       "      <td>0</td>\n",
       "      <td>2</td>\n",
       "      <td>1</td>\n",
       "    </tr>\n",
       "    <tr>\n",
       "      <th>4</th>\n",
       "      <td>0.583333</td>\n",
       "      <td>0</td>\n",
       "      <td>0</td>\n",
       "      <td>0.245283</td>\n",
       "      <td>0.520548</td>\n",
       "      <td>0</td>\n",
       "      <td>1</td>\n",
       "      <td>0.702290</td>\n",
       "      <td>1</td>\n",
       "      <td>0.096774</td>\n",
       "      <td>2</td>\n",
       "      <td>0</td>\n",
       "      <td>2</td>\n",
       "      <td>1</td>\n",
       "    </tr>\n",
       "    <tr>\n",
       "      <th>5</th>\n",
       "      <td>0.583333</td>\n",
       "      <td>1</td>\n",
       "      <td>0</td>\n",
       "      <td>0.433962</td>\n",
       "      <td>0.150685</td>\n",
       "      <td>0</td>\n",
       "      <td>1</td>\n",
       "      <td>0.587786</td>\n",
       "      <td>0</td>\n",
       "      <td>0.064516</td>\n",
       "      <td>1</td>\n",
       "      <td>0</td>\n",
       "      <td>1</td>\n",
       "      <td>1</td>\n",
       "    </tr>\n",
       "    <tr>\n",
       "      <th>6</th>\n",
       "      <td>0.562500</td>\n",
       "      <td>0</td>\n",
       "      <td>1</td>\n",
       "      <td>0.433962</td>\n",
       "      <td>0.383562</td>\n",
       "      <td>0</td>\n",
       "      <td>0</td>\n",
       "      <td>0.625954</td>\n",
       "      <td>0</td>\n",
       "      <td>0.209677</td>\n",
       "      <td>1</td>\n",
       "      <td>0</td>\n",
       "      <td>2</td>\n",
       "      <td>1</td>\n",
       "    </tr>\n",
       "    <tr>\n",
       "      <th>7</th>\n",
       "      <td>0.312500</td>\n",
       "      <td>1</td>\n",
       "      <td>1</td>\n",
       "      <td>0.245283</td>\n",
       "      <td>0.312785</td>\n",
       "      <td>0</td>\n",
       "      <td>1</td>\n",
       "      <td>0.778626</td>\n",
       "      <td>0</td>\n",
       "      <td>0.000000</td>\n",
       "      <td>2</td>\n",
       "      <td>0</td>\n",
       "      <td>3</td>\n",
       "      <td>1</td>\n",
       "    </tr>\n",
       "    <tr>\n",
       "      <th>8</th>\n",
       "      <td>0.479167</td>\n",
       "      <td>1</td>\n",
       "      <td>2</td>\n",
       "      <td>0.735849</td>\n",
       "      <td>0.166667</td>\n",
       "      <td>1</td>\n",
       "      <td>1</td>\n",
       "      <td>0.694656</td>\n",
       "      <td>0</td>\n",
       "      <td>0.080645</td>\n",
       "      <td>2</td>\n",
       "      <td>0</td>\n",
       "      <td>3</td>\n",
       "      <td>1</td>\n",
       "    </tr>\n",
       "    <tr>\n",
       "      <th>9</th>\n",
       "      <td>0.583333</td>\n",
       "      <td>1</td>\n",
       "      <td>2</td>\n",
       "      <td>0.528302</td>\n",
       "      <td>0.095890</td>\n",
       "      <td>0</td>\n",
       "      <td>1</td>\n",
       "      <td>0.786260</td>\n",
       "      <td>0</td>\n",
       "      <td>0.258065</td>\n",
       "      <td>2</td>\n",
       "      <td>0</td>\n",
       "      <td>2</td>\n",
       "      <td>1</td>\n",
       "    </tr>\n",
       "  </tbody>\n",
       "</table>\n",
       "</div>"
      ],
      "text/plain": [
       "        age  sex  cp    trtbps      chol  fbs  restecg  thalachh  exng  \\\n",
       "0  0.708333    1   3  0.481132  0.244292    1        0  0.603053     0   \n",
       "1  0.166667    1   2  0.339623  0.283105    0        1  0.885496     0   \n",
       "2  0.250000    0   1  0.339623  0.178082    0        0  0.770992     0   \n",
       "3  0.562500    1   1  0.245283  0.251142    0        1  0.816794     0   \n",
       "4  0.583333    0   0  0.245283  0.520548    0        1  0.702290     1   \n",
       "5  0.583333    1   0  0.433962  0.150685    0        1  0.587786     0   \n",
       "6  0.562500    0   1  0.433962  0.383562    0        0  0.625954     0   \n",
       "7  0.312500    1   1  0.245283  0.312785    0        1  0.778626     0   \n",
       "8  0.479167    1   2  0.735849  0.166667    1        1  0.694656     0   \n",
       "9  0.583333    1   2  0.528302  0.095890    0        1  0.786260     0   \n",
       "\n",
       "    oldpeak  slp  caa  thall  output  \n",
       "0  0.370968    0    0      1       1  \n",
       "1  0.564516    0    0      2       1  \n",
       "2  0.225806    2    0      2       1  \n",
       "3  0.129032    2    0      2       1  \n",
       "4  0.096774    2    0      2       1  \n",
       "5  0.064516    1    0      1       1  \n",
       "6  0.209677    1    0      2       1  \n",
       "7  0.000000    2    0      3       1  \n",
       "8  0.080645    2    0      3       1  \n",
       "9  0.258065    2    0      2       1  "
      ]
     },
     "execution_count": 112,
     "metadata": {},
     "output_type": "execute_result"
    }
   ],
   "source": [
    "data.head(10)"
   ]
  },
  {
   "cell_type": "code",
   "execution_count": 113,
   "metadata": {},
   "outputs": [],
   "source": [
    "x = data.drop('output', axis=1).values\n",
    "y = data['output'].values"
   ]
  },
  {
   "cell_type": "code",
   "execution_count": 114,
   "metadata": {},
   "outputs": [
    {
     "data": {
      "text/plain": [
       "\"labels = ['0=Non Heart Disease', '1=Heart Disease']\\ncolors = ['royalblue','red']\\nvalues = np.bincount(y.astype(int)).tolist()\\nfig = go.Figure(data=[go.Pie(labels=labels, values=values, hole=0.5)])\\nfig.update_traces(hoverinfo='label+value', textfont_size=15, marker=dict(colors=colors))\\nfig.update_layout(annotations=[dict(text='HeartDisease', x=0.5, y=0.5, font_size=15, showarrow=False)])\\nfig.show()\""
      ]
     },
     "execution_count": 114,
     "metadata": {},
     "output_type": "execute_result"
    }
   ],
   "source": [
    "'''labels = ['0=Non Heart Disease', '1=Heart Disease']\n",
    "colors = ['royalblue','red']\n",
    "values = np.bincount(y.astype(int)).tolist()\n",
    "fig = go.Figure(data=[go.Pie(labels=labels, values=values, hole=0.5)])\n",
    "fig.update_traces(hoverinfo='label+value', textfont_size=15, marker=dict(colors=colors))\n",
    "fig.update_layout(annotations=[dict(text='HeartDisease', x=0.5, y=0.5, font_size=15, showarrow=False)])\n",
    "fig.show()'''"
   ]
  },
  {
   "cell_type": "code",
   "execution_count": 115,
   "metadata": {},
   "outputs": [
    {
     "data": {
      "text/plain": [
       "'print(\"採樣前資料分布:\")\\nprint(data[\\'HeartDisease\\'].value_counts())'"
      ]
     },
     "execution_count": 115,
     "metadata": {},
     "output_type": "execute_result"
    }
   ],
   "source": [
    "'''print(\"採樣前資料分布:\")\n",
    "print(data['HeartDisease'].value_counts())'''"
   ]
  },
  {
   "cell_type": "code",
   "execution_count": 116,
   "metadata": {
    "tags": []
   },
   "outputs": [
    {
     "data": {
      "text/plain": [
       "'from imblearn.over_sampling import RandomOverSampler\\nsm = RandomOverSampler(random_state=42)\\nx_resampled, y_resampled = sm.fit_resample(x, y)'"
      ]
     },
     "execution_count": 116,
     "metadata": {},
     "output_type": "execute_result"
    }
   ],
   "source": [
    "'''from imblearn.over_sampling import RandomOverSampler\n",
    "sm = RandomOverSampler(random_state=42)\n",
    "x_resampled, y_resampled = sm.fit_resample(x, y)'''"
   ]
  },
  {
   "cell_type": "code",
   "execution_count": 117,
   "metadata": {
    "tags": []
   },
   "outputs": [
    {
     "data": {
      "text/plain": [
       "\"labels = ['0=Non Heart Disease', '1=Heart Disease']\\nvalues = np.bincount(y_resampled.astype(int)).tolist()\\nfig = go.Figure(data=[go.Pie(labels=labels, values=values, hole=0.5)])\\nfig.update_traces(hoverinfo='label+value', textfont_size=15, marker=dict(colors=colors))\\nfig.update_layout(annotations=[dict(text='HeartDisease', x=0.5, y=0.5, font_size=15, showarrow=False)])\\nfig.show()\""
      ]
     },
     "execution_count": 117,
     "metadata": {},
     "output_type": "execute_result"
    }
   ],
   "source": [
    "'''labels = ['0=Non Heart Disease', '1=Heart Disease']\n",
    "values = np.bincount(y_resampled.astype(int)).tolist()\n",
    "fig = go.Figure(data=[go.Pie(labels=labels, values=values, hole=0.5)])\n",
    "fig.update_traces(hoverinfo='label+value', textfont_size=15, marker=dict(colors=colors))\n",
    "fig.update_layout(annotations=[dict(text='HeartDisease', x=0.5, y=0.5, font_size=15, showarrow=False)])\n",
    "fig.show()'''"
   ]
  },
  {
   "cell_type": "code",
   "execution_count": 118,
   "metadata": {},
   "outputs": [
    {
     "data": {
      "text/plain": [
       "'print(\"採樣後資料分布:\")\\nprint(pd.Series(y_resampled).value_counts())'"
      ]
     },
     "execution_count": 118,
     "metadata": {},
     "output_type": "execute_result"
    }
   ],
   "source": [
    "'''print(\"採樣後資料分布:\")\n",
    "print(pd.Series(y_resampled).value_counts())'''"
   ]
  },
  {
   "cell_type": "code",
   "execution_count": 119,
   "metadata": {},
   "outputs": [
    {
     "data": {
      "text/plain": [
       "\"combined_train_df.columns = columns\\ncombined_test_df.columns = columns\\n\\ncombined_train_df.to_csv('combined_train_data.csv', index=False, columns=columns)\\ncombined_test_df.to_csv('combined_test_data.csv', index=False, columns=columns)\""
      ]
     },
     "execution_count": 119,
     "metadata": {},
     "output_type": "execute_result"
    }
   ],
   "source": [
    "x_train, x_test, y_train, y_test = train_test_split(x, y, test_size=0.3, random_state=42)\n",
    "\n",
    "'''combined_train_df = pd.concat([pd.DataFrame(y_train), pd.DataFrame(x_train)], axis=1)\n",
    "combined_test_df = pd.concat([pd.DataFrame(y_test), pd.DataFrame(x_test)], axis=1)'''\n",
    "\n",
    "\n",
    "\n",
    "columns = ['age', 'sex', 'cp', 'trtbps', 'chol', 'fbs', 'restecg', \n",
    "           'thalachh', 'exng', 'oldpeak', 'slp', 'caa', 'thall', 'output']\n",
    "\n",
    "'''combined_train_df.columns = columns\n",
    "combined_test_df.columns = columns\n",
    "\n",
    "combined_train_df.to_csv('combined_train_data.csv', index=False, columns=columns)\n",
    "combined_test_df.to_csv('combined_test_data.csv', index=False, columns=columns)'''"
   ]
  },
  {
   "cell_type": "code",
   "execution_count": 120,
   "metadata": {},
   "outputs": [
    {
     "data": {
      "text/plain": [
       "\"from sklearn.metrics import matthews_corrcoef\\ncols = data.columns\\ncorr = []\\nfor col in cols:\\n    if col in binary_columns:\\n        corr.append(matthews_corrcoef(data['HeartDisease'], data[col]))\\n    else:\\n        corr.append(data['HeartDisease'].corr(data[col]))\\ncorrelation = pd.DataFrame(list(zip(cols, corr)), columns=['Variables','Corr_with_HeartDisease'])\\ncorrelation.drop(index=correlation.index[:1], axis=0, inplace=True)\\ncorrelation\""
      ]
     },
     "execution_count": 120,
     "metadata": {},
     "output_type": "execute_result"
    }
   ],
   "source": [
    "'''from sklearn.metrics import matthews_corrcoef\n",
    "cols = data.columns\n",
    "corr = []\n",
    "for col in cols:\n",
    "    if col in binary_columns:\n",
    "        corr.append(matthews_corrcoef(data['HeartDisease'], data[col]))\n",
    "    else:\n",
    "        corr.append(data['HeartDisease'].corr(data[col]))\n",
    "correlation = pd.DataFrame(list(zip(cols, corr)), columns=['Variables','Corr_with_HeartDisease'])\n",
    "correlation.drop(index=correlation.index[:1], axis=0, inplace=True)\n",
    "correlation'''"
   ]
  },
  {
   "cell_type": "code",
   "execution_count": 121,
   "metadata": {},
   "outputs": [
    {
     "data": {
      "text/plain": [
       "\"correlation['colors'] = ['#F0073B' if float(x) <= 0 else '#CB3579' for x in correlation['Corr_with_HeartDisease']]\\ncorrelation = correlation.sort_values(ascending=True, by=['Corr_with_HeartDisease']) \\nplt.figure(figsize=(14,10), dpi=80)\\nplt.hlines(y=correlation.Variables, xmin=0, xmax=correlation.Corr_with_HeartDisease, color=correlation.colors,  linewidth=5)\\nplt.grid()\\nplt.show()\""
      ]
     },
     "execution_count": 121,
     "metadata": {},
     "output_type": "execute_result"
    }
   ],
   "source": [
    "'''correlation['colors'] = ['#F0073B' if float(x) <= 0 else '#CB3579' for x in correlation['Corr_with_HeartDisease']]\n",
    "correlation = correlation.sort_values(ascending=True, by=['Corr_with_HeartDisease']) \n",
    "plt.figure(figsize=(14,10), dpi=80)\n",
    "plt.hlines(y=correlation.Variables, xmin=0, xmax=correlation.Corr_with_HeartDisease, color=correlation.colors,  linewidth=5)\n",
    "plt.grid()\n",
    "plt.show()'''"
   ]
  },
  {
   "cell_type": "code",
   "execution_count": 122,
   "metadata": {},
   "outputs": [],
   "source": [
    "accuracy = []\n",
    "precision = []\n",
    "recall = []\n",
    "f1 = []\n",
    "auc = []\n",
    "feature_selection_count = Counter()\n",
    "\n",
    "def evaluate_model(model, y_true, y_pred):\n",
    "    accuracy.append(accuracy_score(y_true, y_pred))\n",
    "    precision.append(precision_score(y_true, y_pred))\n",
    "    recall.append(recall_score(y_true, y_pred))\n",
    "    f1.append(f1_score(y_true, y_pred))\n",
    "    auc.append(roc_auc_score(y_true, y_pred))"
   ]
  },
  {
   "cell_type": "code",
   "execution_count": 123,
   "metadata": {},
   "outputs": [
    {
     "name": "stdout",
     "output_type": "stream",
     "text": [
      "1 features  =  0.7511670480549199\n",
      "2 features  =  0.7032723112128145\n",
      "3 features  =  0.801475972540046\n",
      "4 features  =  0.7806864988558353\n",
      "5 features  =  0.7989931350114416\n",
      "6 features  =  0.811350114416476\n",
      "7 features  =  0.8035697940503432\n",
      "8 features  =  0.8271395881006864\n",
      "9 features  =  0.8227917620137302\n",
      "10 features  =  0.8166132723112127\n",
      "11 features  =  0.8060869565217391\n",
      "12 features  =  0.7992219679633866\n",
      "最佳的 max_features 值: 8\n",
      "對應的交叉驗證分數: 0.8271395881006864\n",
      "\n",
      "選擇的特徵: ['age' 'cp' 'thalachh' 'exng' 'oldpeak' 'slp' 'caa' 'thall']\n",
      "\n",
      "Accuracy_score: 0.8351648351648352\n",
      "Precision_score: 0.8269230769230769\n",
      "Recall_score: 0.8775510204081632\n",
      "F1-score: 0.8514851485148514\n",
      "\n"
     ]
    },
    {
     "data": {
      "image/png": "[encoded data removed]",
      "text/plain": [
       "<Figure size 700x500 with 2 Axes>"
      ]
     },
     "metadata": {},
     "output_type": "display_data"
    }
   ],
   "source": [
    "xgb = XGBClassifier(n_estimators= 20 , max_depth= 2 , learning_rate = 0.1)\n",
    "\n",
    "max_features_range = range(1, 13)\n",
    "best_max_features = None\n",
    "best_score = 0\n",
    "\n",
    "\n",
    "for max_features in max_features_range:\n",
    "    selector = SelectFromModel(estimator=xgb, threshold=-np.inf, max_features=max_features)\n",
    "    selector.fit(x_train, y_train)\n",
    "    x_train_selected = selector.transform(x_train)\n",
    "    \n",
    "    scores = cross_val_score(XGBClassifier(n_estimators= 50 , max_depth= 3 , learning_rate = 0.1), \n",
    "                             x_train_selected, y_train, cv=5, scoring='balanced_accuracy')\n",
    "    mean_score = scores.mean()\n",
    "    print(max_features,'features',' = ',mean_score)\n",
    "    if mean_score > best_score:\n",
    "        best_score = mean_score\n",
    "        best_max_features = max_features\n",
    "\n",
    "print(\"最佳的 max_features 值:\", best_max_features)\n",
    "print(\"對應的交叉驗證分數:\", best_score)\n",
    "\n",
    "\n",
    "selector = SelectFromModel(estimator=xgb, threshold=-np.inf, max_features=best_max_features)\n",
    "selector.fit(x_train, y_train)\n",
    "\n",
    "\n",
    "print()\n",
    "\n",
    "selected_features = np.array(data.drop('output', axis=1).columns)[selector.get_support()]\n",
    "feature_selection_count.update(selected_features)\n",
    "print(\"選擇的特徵:\", selected_features)\n",
    "\n",
    "print()\n",
    "\n",
    "x_train_selected = selector.transform(x_train)\n",
    "x_test_selected = selector.transform(x_test)\n",
    "\n",
    "xgb.fit(x_train_selected, y_train)\n",
    "\n",
    "\n",
    "y_pred_prob = xgb.predict_proba(x_test_selected)[:, 1]\n",
    "threshold = 0.45\n",
    "y_pred = (y_pred_prob >= threshold).astype(int)\n",
    "\n",
    "evaluate_model(xgb, y_test, y_pred)\n",
    "print(f'Accuracy_score: {accuracy_score(y_test, y_pred)}')\n",
    "print(f'Precision_score: {precision_score(y_test, y_pred)}')\n",
    "print(f'Recall_score: {recall_score(y_test, y_pred)}')\n",
    "print(f'F1-score: {f1_score(y_test, y_pred)}')\n",
    "\n",
    "print()\n",
    "\n",
    "cm = confusion_matrix(y_test, y_pred)\n",
    "plt.figure(figsize=(7,5))\n",
    "plt.title('XGBClassifier')\n",
    "ax = sns.heatmap(cm/np.sum(cm),fmt='.2%', annot=True, cmap='Blues')\n",
    "ax.set_xlabel('\\nPredicted Values')\n",
    "ax.set_ylabel('Actual Values ');\n",
    "ax.xaxis.set_ticklabels(['No HeartDisease','HeartDisease'],fontsize = 15)\n",
    "ax.yaxis.set_ticklabels(['No HeartDisease','HeartDisease'],fontsize = 15)\n",
    "plt.show()"
   ]
  },
  {
   "cell_type": "code",
   "execution_count": 124,
   "metadata": {
    "tags": []
   },
   "outputs": [
    {
     "name": "stdout",
     "output_type": "stream",
     "text": [
      "1 features  =  0.6351601830663617\n",
      "2 features  =  0.7071052631578947\n",
      "3 features  =  0.7244965675057209\n",
      "4 features  =  0.7816018306636157\n",
      "5 features  =  0.7640846681922195\n",
      "6 features  =  0.8001372997711671\n",
      "7 features  =  0.7939588100686499\n",
      "8 features  =  0.795137299771167\n",
      "9 features  =  0.8362242562929062\n",
      "10 features  =  0.8309610983981693\n",
      "11 features  =  0.8309610983981692\n",
      "12 features  =  0.8362242562929062\n",
      "最佳的 max_features 值: 9\n",
      "對應的交叉驗證分數: 0.8362242562929062\n",
      "\n",
      "選擇的特徵: ['sex' 'cp' 'trtbps' 'thalachh' 'exng' 'oldpeak' 'slp' 'caa' 'thall']\n",
      "\n",
      "Accuracy_score: 0.8351648351648352\n",
      "Precision_score: 0.8269230769230769\n",
      "Recall_score: 0.8775510204081632\n",
      "F1-score: 0.8514851485148514\n",
      "\n"
     ]
    },
    {
     "data": {
      "image/png": "[encoded data removed]",
      "text/plain": [
       "<Figure size 700x500 with 2 Axes>"
      ]
     },
     "metadata": {},
     "output_type": "display_data"
    }
   ],
   "source": [
    "from sklearn.linear_model import LogisticRegression\n",
    "\n",
    "logreg = LogisticRegression(solver = \"liblinear\")\n",
    "\n",
    "best_max_features = None\n",
    "best_score = 0\n",
    "\n",
    "for max_features in max_features_range:\n",
    "    selector = SelectFromModel(estimator=logreg, threshold=-np.inf, max_features=max_features)\n",
    "    selector.fit(x_train, y_train)\n",
    "    x_train_selected = selector.transform(x_train)\n",
    "    \n",
    "    scores = cross_val_score(LogisticRegression(solver = \"liblinear\"), \n",
    "                             x_train_selected, y_train, cv=5, scoring='balanced_accuracy')\n",
    "    mean_score = scores.mean()\n",
    "    print(max_features,'features',' = ',mean_score)\n",
    "    if mean_score > best_score:\n",
    "        best_score = mean_score\n",
    "        best_max_features = max_features\n",
    "\n",
    "print(\"最佳的 max_features 值:\", best_max_features)\n",
    "print(\"對應的交叉驗證分數:\", best_score)\n",
    "\n",
    "\n",
    "selector = SelectFromModel(estimator=logreg, threshold=-np.inf, max_features=best_max_features)\n",
    "selector.fit(x_train, y_train)\n",
    "\n",
    "print()\n",
    "\n",
    "selected_features = np.array(data.drop('output', axis=1).columns)[selector.get_support()]\n",
    "feature_selection_count.update(selected_features)\n",
    "print(\"選擇的特徵:\", selected_features)\n",
    "\n",
    "print()\n",
    "\n",
    "x_train_selected = selector.transform(x_train)\n",
    "x_test_selected = selector.transform(x_test)\n",
    "\n",
    "logreg.fit(x_train_selected, y_train)\n",
    "\n",
    "\n",
    "y_pred_prob = logreg.predict_proba(x_test_selected)[:, 1]\n",
    "threshold = 0.4\n",
    "y_pred = (y_pred_prob >= threshold).astype(int)\n",
    "\n",
    "evaluate_model(logreg, y_test, y_pred)\n",
    "print(f'Accuracy_score: {accuracy_score(y_test, y_pred)}')\n",
    "print(f'Precision_score: {precision_score(y_test, y_pred)}')\n",
    "print(f'Recall_score: {recall_score(y_test, y_pred)}')\n",
    "print(f'F1-score: {f1_score(y_test, y_pred)}')\n",
    "\n",
    "print()\n",
    "\n",
    "cm = confusion_matrix(y_test, y_pred)\n",
    "plt.figure(figsize=(7,5))\n",
    "plt.title('LogisticRegression')\n",
    "ax = sns.heatmap(cm/np.sum(cm),fmt='.2%', annot=True, cmap='Blues')\n",
    "ax.set_xlabel('\\nPredicted Values')\n",
    "ax.set_ylabel('Actual Values ');\n",
    "ax.xaxis.set_ticklabels(['No HeartDisease','HeartDisease'],fontsize = 15)\n",
    "ax.yaxis.set_ticklabels(['No HeartDisease','HeartDisease'],fontsize = 15)\n",
    "plt.show()"
   ]
  },
  {
   "cell_type": "code",
   "execution_count": 125,
   "metadata": {
    "tags": []
   },
   "outputs": [
    {
     "name": "stdout",
     "output_type": "stream",
     "text": [
      "1 features  =  0.7511670480549199\n",
      "2 features  =  0.7047139588100686\n",
      "3 features  =  0.7893478260869564\n",
      "4 features  =  0.79\n",
      "5 features  =  0.7890846681922197\n",
      "6 features  =  0.7779061784897024\n",
      "7 features  =  0.7505148741418765\n",
      "8 features  =  0.7896109839816934\n",
      "9 features  =  0.7738215102974828\n",
      "10 features  =  0.7896109839816933\n",
      "11 features  =  0.7740503432494279\n",
      "12 features  =  0.8001372997711671\n",
      "最佳的 max_features 值: 12\n",
      "對應的交叉驗證分數: 0.8001372997711671\n",
      "\n",
      "選擇的特徵: ['age' 'sex' 'cp' 'trtbps' 'chol' 'restecg' 'thalachh' 'exng' 'oldpeak'\n",
      " 'slp' 'caa' 'thall']\n",
      "\n",
      "Accuracy_score: 0.8461538461538461\n",
      "Precision_score: 0.8301886792452831\n",
      "Recall_score: 0.8979591836734694\n",
      "F1-score: 0.8627450980392157\n",
      "\n"
     ]
    },
    {
     "data": {
      "image/png": "[encoded data removed]",
      "text/plain": [
       "<Figure size 700x500 with 2 Axes>"
      ]
     },
     "metadata": {},
     "output_type": "display_data"
    }
   ],
   "source": [
    "from sklearn.ensemble import GradientBoostingClassifier\n",
    "\n",
    "gbc = GradientBoostingClassifier(n_estimators=50,max_depth = 3)\n",
    "\n",
    "best_max_features = None\n",
    "best_score = 0\n",
    "\n",
    "for max_features in max_features_range:\n",
    "    selector = SelectFromModel(estimator=gbc, threshold=-np.inf, max_features=max_features)\n",
    "    selector.fit(x_train, y_train)\n",
    "    x_train_selected = selector.transform(x_train)\n",
    "\n",
    "    scores = cross_val_score(GradientBoostingClassifier(n_estimators=50,max_depth = 3), \n",
    "                             x_train_selected, y_train, cv=5, scoring='balanced_accuracy')\n",
    "    mean_score = scores.mean()\n",
    "    print(max_features,'features',' = ',mean_score)\n",
    "    if mean_score > best_score:\n",
    "        best_score = mean_score\n",
    "        best_max_features = max_features\n",
    "\n",
    "print(\"最佳的 max_features 值:\", best_max_features)\n",
    "print(\"對應的交叉驗證分數:\", best_score)\n",
    "\n",
    "\n",
    "selector = SelectFromModel(estimator=gbc, threshold=-np.inf, max_features=best_max_features)\n",
    "selector.fit(x_train, y_train)\n",
    "\n",
    "print()\n",
    "\n",
    "selected_features = np.array(data.drop('output', axis=1).columns)[selector.get_support()]\n",
    "feature_selection_count.update(selected_features)\n",
    "print(\"選擇的特徵:\", selected_features)\n",
    "\n",
    "print()\n",
    "\n",
    "x_train_selected = selector.transform(x_train)\n",
    "x_test_selected = selector.transform(x_test)\n",
    "\n",
    "gbc.fit(x_train_selected, y_train)\n",
    "\n",
    "\n",
    "y_pred_prob = gbc.predict_proba(x_test_selected)[:, 1]\n",
    "threshold = 0.4\n",
    "y_pred = (y_pred_prob >= threshold).astype(int)\n",
    "\n",
    "evaluate_model(gbc, y_test, y_pred)\n",
    "print(f'Accuracy_score: {accuracy_score(y_test, y_pred)}')\n",
    "print(f'Precision_score: {precision_score(y_test, y_pred)}')\n",
    "print(f'Recall_score: {recall_score(y_test, y_pred)}')\n",
    "print(f'F1-score: {f1_score(y_test, y_pred)}')\n",
    "\n",
    "print()\n",
    "\n",
    "cm = confusion_matrix(y_test, y_pred)\n",
    "plt.figure(figsize=(7,5))\n",
    "plt.title('GradientBoostingClassifier')\n",
    "ax = sns.heatmap(cm/np.sum(cm),fmt='.2%', annot=True, cmap='Blues')\n",
    "ax.set_xlabel('\\nPredicted Values')\n",
    "ax.set_ylabel('Actual Values ');\n",
    "ax.xaxis.set_ticklabels(['No HeartDisease','HeartDisease'],fontsize = 15)\n",
    "ax.yaxis.set_ticklabels(['No HeartDisease','HeartDisease'],fontsize = 15)\n",
    "plt.show()"
   ]
  },
  {
   "cell_type": "code",
   "execution_count": 126,
   "metadata": {
    "tags": []
   },
   "outputs": [
    {
     "name": "stdout",
     "output_type": "stream",
     "text": [
      "1 features  =  0.7511670480549199\n",
      "2 features  =  0.7483867276887872\n",
      "3 features  =  0.8371739130434783\n",
      "4 features  =  0.7813386727688787\n",
      "5 features  =  0.8023913043478261\n",
      "6 features  =  0.8380892448512587\n",
      "7 features  =  0.8424370709382151\n",
      "8 features  =  0.8328260869565216\n",
      "9 features  =  0.833741418764302\n",
      "10 features  =  0.8188672768878718\n",
      "11 features  =  0.8234782608695653\n",
      "12 features  =  0.8092562929061785\n",
      "最佳的 max_features 值: 7\n",
      "對應的交叉驗證分數: 0.8424370709382151\n",
      "\n",
      "選擇的特徵: ['cp' 'thalachh' 'exng' 'oldpeak' 'slp' 'caa' 'thall']\n",
      "\n",
      "Accuracy_score: 0.8241758241758241\n",
      "Precision_score: 0.8\n",
      "Recall_score: 0.8979591836734694\n",
      "F1-score: 0.8461538461538463\n",
      "\n"
     ]
    },
    {
     "data": {
      "image/png": "[encoded data removed]",
      "text/plain": [
       "<Figure size 700x500 with 2 Axes>"
      ]
     },
     "metadata": {},
     "output_type": "display_data"
    }
   ],
   "source": [
    "from sklearn.ensemble import RandomForestClassifier\n",
    "\n",
    "rfc = RandomForestClassifier(n_estimators=25,max_depth = 3)\n",
    "\n",
    "best_max_features = None\n",
    "best_score = 0\n",
    "\n",
    "for max_features in max_features_range:\n",
    "    selector = SelectFromModel(estimator=rfc, threshold=-np.inf, max_features=max_features)\n",
    "    selector.fit(x_train, y_train)\n",
    "    x_train_selected = selector.transform(x_train)\n",
    "    \n",
    "    scores = cross_val_score(RandomForestClassifier(n_estimators=50,max_depth = 3), \n",
    "                             x_train_selected, y_train, cv=5, scoring='balanced_accuracy')\n",
    "    mean_score = scores.mean()\n",
    "    print(max_features,'features',' = ',mean_score)\n",
    "    if mean_score > best_score:\n",
    "        best_score = mean_score\n",
    "        best_max_features = max_features\n",
    "\n",
    "print(\"最佳的 max_features 值:\", best_max_features)\n",
    "print(\"對應的交叉驗證分數:\", best_score)\n",
    "\n",
    "\n",
    "selector = SelectFromModel(estimator=rfc, threshold=-np.inf, max_features=best_max_features)\n",
    "selector.fit(x_train, y_train)\n",
    "\n",
    "print()\n",
    "\n",
    "selected_features = np.array(data.drop('output', axis=1).columns)[selector.get_support()]\n",
    "feature_selection_count.update(selected_features)\n",
    "print(\"選擇的特徵:\", selected_features)\n",
    "\n",
    "print()\n",
    "\n",
    "x_train_selected = selector.transform(x_train)\n",
    "x_test_selected = selector.transform(x_test)\n",
    "\n",
    "rfc.fit(x_train_selected, y_train)\n",
    "\n",
    "\n",
    "y_pred_prob = rfc.predict_proba(x_test_selected)[:, 1]\n",
    "threshold = 0.47\n",
    "y_pred = (y_pred_prob >= threshold).astype(int)\n",
    "\n",
    "evaluate_model(rfc, y_test, y_pred)\n",
    "print(f'Accuracy_score: {accuracy_score(y_test, y_pred)}')\n",
    "print(f'Precision_score: {precision_score(y_test, y_pred)}')\n",
    "print(f'Recall_score: {recall_score(y_test, y_pred)}')\n",
    "print(f'F1-score: {f1_score(y_test, y_pred)}')\n",
    "\n",
    "print()\n",
    "\n",
    "cm = confusion_matrix(y_test, y_pred)\n",
    "plt.figure(figsize=(7,5))\n",
    "plt.title('RandomForestClassifier')\n",
    "ax = sns.heatmap(cm/np.sum(cm),fmt='.2%', annot=True, cmap='Blues')\n",
    "ax.set_xlabel('\\nPredicted Values')\n",
    "ax.set_ylabel('Actual Values ');\n",
    "ax.xaxis.set_ticklabels(['No HeartDisease','HeartDisease'],fontsize = 15)\n",
    "ax.yaxis.set_ticklabels(['No HeartDisease','HeartDisease'],fontsize = 15)\n",
    "plt.show()"
   ]
  },
  {
   "cell_type": "code",
   "execution_count": 127,
   "metadata": {
    "tags": []
   },
   "outputs": [
    {
     "name": "stdout",
     "output_type": "stream",
     "text": [
      "1 features  =  0.7511670480549199\n",
      "2 features  =  0.7099771167048056\n",
      "3 features  =  0.6989931350114416\n",
      "4 features  =  0.7645995423340961\n",
      "5 features  =  0.7316819221967963\n",
      "6 features  =  0.7074599542334097\n",
      "7 features  =  0.7058581235697939\n",
      "8 features  =  0.7039016018306636\n",
      "9 features  =  0.7077231121281464\n",
      "10 features  =  0.7065446224256294\n",
      "11 features  =  0.7042906178489702\n",
      "12 features  =  0.7246910755148741\n",
      "最佳的 max_features 值: 4\n",
      "對應的交叉驗證分數: 0.7645995423340961\n",
      "\n",
      "選擇的特徵: ['cp' 'oldpeak' 'caa' 'thall']\n",
      "\n",
      "Accuracy_score: 0.7692307692307693\n",
      "Precision_score: 0.78\n",
      "Recall_score: 0.7959183673469388\n",
      "F1-score: 0.7878787878787878\n",
      "\n"
     ]
    },
    {
     "data": {
      "image/png": "[encoded data removed]",
      "text/plain": [
       "<Figure size 700x500 with 2 Axes>"
      ]
     },
     "metadata": {},
     "output_type": "display_data"
    }
   ],
   "source": [
    "from sklearn.tree import DecisionTreeClassifier\n",
    "\n",
    "dtc =  DecisionTreeClassifier(max_depth= 200)\n",
    "\n",
    "best_max_features = None\n",
    "best_score = 0\n",
    "\n",
    "for max_features in max_features_range:\n",
    "    selector = SelectFromModel(estimator=dtc, threshold=-np.inf, max_features=max_features)\n",
    "    selector.fit(x_train, y_train)\n",
    "    x_train_selected = selector.transform(x_train)\n",
    "    \n",
    "    scores = cross_val_score(DecisionTreeClassifier(max_depth= 8), \n",
    "                             x_train_selected, y_train, cv=5, scoring='balanced_accuracy')\n",
    "    mean_score = scores.mean()\n",
    "    print(max_features,'features',' = ',mean_score)\n",
    "    if mean_score > best_score:\n",
    "        best_score = mean_score\n",
    "        best_max_features = max_features\n",
    "\n",
    "print(\"最佳的 max_features 值:\", best_max_features)\n",
    "print(\"對應的交叉驗證分數:\", best_score)\n",
    "\n",
    "\n",
    "selector = SelectFromModel(estimator=dtc, threshold=-np.inf, max_features=best_max_features)\n",
    "selector.fit(x_train, y_train)\n",
    "\n",
    "print()\n",
    "\n",
    "selected_features = np.array(data.drop('output', axis=1).columns)[selector.get_support()]\n",
    "feature_selection_count.update(selected_features)\n",
    "print(\"選擇的特徵:\", selected_features)\n",
    "\n",
    "print()\n",
    "\n",
    "x_train_selected = selector.transform(x_train)\n",
    "x_test_selected = selector.transform(x_test)\n",
    "\n",
    "dtc.fit(x_train_selected, y_train)\n",
    "\n",
    "\n",
    "y_pred = dtc.predict(x_test_selected)\n",
    "evaluate_model(dtc, y_test, y_pred)\n",
    "print(f'Accuracy_score: {accuracy_score(y_test, y_pred)}')\n",
    "print(f'Precision_score: {precision_score(y_test, y_pred)}')\n",
    "print(f'Recall_score: {recall_score(y_test, y_pred)}')\n",
    "print(f'F1-score: {f1_score(y_test, y_pred)}')\n",
    "\n",
    "print()\n",
    "\n",
    "cm = confusion_matrix(y_test, y_pred)\n",
    "plt.figure(figsize=(7,5))\n",
    "plt.title('DecisionTreeClassifier')\n",
    "ax = sns.heatmap(cm/np.sum(cm),fmt='.2%', annot=True, cmap='Blues')\n",
    "ax.set_xlabel('\\nPredicted Values')\n",
    "ax.set_ylabel('Actual Values ');\n",
    "ax.xaxis.set_ticklabels(['No HeartDisease','HeartDisease'],fontsize = 15)\n",
    "ax.yaxis.set_ticklabels(['No HeartDisease','HeartDisease'],fontsize = 15)\n",
    "plt.show()"
   ]
  },
  {
   "cell_type": "code",
   "execution_count": 128,
   "metadata": {
    "tags": []
   },
   "outputs": [
    {
     "name": "stdout",
     "output_type": "stream",
     "text": [
      "1 features  =  0.5986041189931349\n",
      "2 features  =  0.562745995423341\n",
      "3 features  =  0.5573569794050343\n",
      "4 features  =  0.7153775743707094\n",
      "5 features  =  0.6927231121281465\n",
      "6 features  =  0.7569565217391305\n",
      "7 features  =  0.7516933638443936\n",
      "8 features  =  0.7622196796338673\n",
      "9 features  =  0.73220823798627\n",
      "10 features  =  0.7427345537757436\n",
      "11 features  =  0.7470823798627002\n",
      "12 features  =  0.7672196796338674\n",
      "最佳的 max_features 值: 12\n",
      "對應的交叉驗證分數: 0.7672196796338674\n",
      "\n",
      "選擇的特徵: ['age' 'sex' 'cp' 'trtbps' 'chol' 'fbs' 'restecg' 'thalachh' 'exng'\n",
      " 'oldpeak' 'slp' 'caa']\n",
      "\n",
      "Accuracy_score: 0.8461538461538461\n",
      "Precision_score: 0.8888888888888888\n",
      "Recall_score: 0.8163265306122449\n",
      "F1-score: 0.851063829787234\n",
      "\n"
     ]
    },
    {
     "data": {
      "image/png": "[encoded data removed]",
      "text/plain": [
       "<Figure size 700x500 with 2 Axes>"
      ]
     },
     "metadata": {},
     "output_type": "display_data"
    }
   ],
   "source": [
    "from sklearn.ensemble import AdaBoostClassifier\n",
    "\n",
    "Ada = AdaBoostClassifier(n_estimators = 25)\n",
    "\n",
    "best_max_features = None\n",
    "best_score = 0\n",
    "\n",
    "for max_features in max_features_range:\n",
    "    selector = SelectFromModel(estimator=Ada, threshold=-np.inf, max_features=max_features)\n",
    "    selector.fit(x_train, y_train)\n",
    "    x_train_selected = selector.transform(x_train)\n",
    "    \n",
    "    scores = cross_val_score(AdaBoostClassifier(n_estimators = 25), \n",
    "                             x_train_selected, y_train, cv=5, scoring='balanced_accuracy')\n",
    "    mean_score = scores.mean()\n",
    "    print(max_features,'features',' = ',mean_score)\n",
    "    if mean_score > best_score:\n",
    "        best_score = mean_score\n",
    "        best_max_features = max_features\n",
    "\n",
    "print(\"最佳的 max_features 值:\", best_max_features)\n",
    "print(\"對應的交叉驗證分數:\", best_score)\n",
    "\n",
    "\n",
    "selector = SelectFromModel(estimator=Ada, threshold=-np.inf, max_features=best_max_features)\n",
    "selector.fit(x_train, y_train)\n",
    "\n",
    "print()\n",
    "\n",
    "selected_features = np.array(data.drop('output', axis=1).columns)[selector.get_support()]\n",
    "feature_selection_count.update(selected_features)\n",
    "print(\"選擇的特徵:\", selected_features)\n",
    "\n",
    "print()\n",
    "\n",
    "x_train_selected = selector.transform(x_train)\n",
    "x_test_selected = selector.transform(x_test)\n",
    "\n",
    "Ada.fit(x_train_selected, y_train)\n",
    "\n",
    "\n",
    "y_pred_prob = Ada.predict_proba(x_test_selected)[:, 1]\n",
    "threshold = 0.498\n",
    "y_pred = (y_pred_prob >= threshold).astype(int)\n",
    "\n",
    "evaluate_model(Ada, y_test, y_pred)\n",
    "print(f'Accuracy_score: {accuracy_score(y_test, y_pred)}')\n",
    "print(f'Precision_score: {precision_score(y_test, y_pred)}')\n",
    "print(f'Recall_score: {recall_score(y_test, y_pred)}')\n",
    "print(f'F1-score: {f1_score(y_test, y_pred)}')\n",
    "\n",
    "print()\n",
    "\n",
    "cm = confusion_matrix(y_test, y_pred)\n",
    "plt.figure(figsize=(7,5))\n",
    "plt.title('AdaBoostClassifier')\n",
    "ax = sns.heatmap(cm/np.sum(cm),fmt='.2%', annot=True, cmap='Blues')\n",
    "ax.set_xlabel('\\nPredicted Values')\n",
    "ax.set_ylabel('Actual Values ');\n",
    "ax.xaxis.set_ticklabels(['No HeartDisease','HeartDisease'],fontsize = 15)\n",
    "ax.yaxis.set_ticklabels(['No HeartDisease','HeartDisease'],fontsize = 15)\n",
    "plt.show()"
   ]
  },
  {
   "cell_type": "code",
   "execution_count": 129,
   "metadata": {
    "tags": []
   },
   "outputs": [
    {
     "data": {
      "text/html": [
       "<div>\n",
       "<style scoped>\n",
       "    .dataframe tbody tr th:only-of-type {\n",
       "        vertical-align: middle;\n",
       "    }\n",
       "\n",
       "    .dataframe tbody tr th {\n",
       "        vertical-align: top;\n",
       "    }\n",
       "\n",
       "    .dataframe thead th {\n",
       "        text-align: right;\n",
       "    }\n",
       "</style>\n",
       "<table border=\"1\" class=\"dataframe\">\n",
       "  <thead>\n",
       "    <tr style=\"text-align: right;\">\n",
       "      <th></th>\n",
       "      <th>Model</th>\n",
       "      <th>Accuracy</th>\n",
       "      <th>Precision</th>\n",
       "      <th>Recall</th>\n",
       "      <th>F1-score</th>\n",
       "      <th>AUC</th>\n",
       "    </tr>\n",
       "  </thead>\n",
       "  <tbody>\n",
       "    <tr>\n",
       "      <th>0</th>\n",
       "      <td>XGBClassifier</td>\n",
       "      <td>0.835165</td>\n",
       "      <td>0.826923</td>\n",
       "      <td>0.877551</td>\n",
       "      <td>0.851485</td>\n",
       "      <td>0.831633</td>\n",
       "    </tr>\n",
       "    <tr>\n",
       "      <th>1</th>\n",
       "      <td>LogisticRegression</td>\n",
       "      <td>0.835165</td>\n",
       "      <td>0.826923</td>\n",
       "      <td>0.877551</td>\n",
       "      <td>0.851485</td>\n",
       "      <td>0.831633</td>\n",
       "    </tr>\n",
       "    <tr>\n",
       "      <th>2</th>\n",
       "      <td>GradientBoostingClassifier</td>\n",
       "      <td>0.846154</td>\n",
       "      <td>0.830189</td>\n",
       "      <td>0.897959</td>\n",
       "      <td>0.862745</td>\n",
       "      <td>0.841837</td>\n",
       "    </tr>\n",
       "    <tr>\n",
       "      <th>3</th>\n",
       "      <td>RandomForestClassifier</td>\n",
       "      <td>0.824176</td>\n",
       "      <td>0.800000</td>\n",
       "      <td>0.897959</td>\n",
       "      <td>0.846154</td>\n",
       "      <td>0.818027</td>\n",
       "    </tr>\n",
       "    <tr>\n",
       "      <th>4</th>\n",
       "      <td>DecisionTreeClassifier</td>\n",
       "      <td>0.769231</td>\n",
       "      <td>0.780000</td>\n",
       "      <td>0.795918</td>\n",
       "      <td>0.787879</td>\n",
       "      <td>0.767007</td>\n",
       "    </tr>\n",
       "    <tr>\n",
       "      <th>5</th>\n",
       "      <td>AdaBoostClassifier</td>\n",
       "      <td>0.846154</td>\n",
       "      <td>0.888889</td>\n",
       "      <td>0.816327</td>\n",
       "      <td>0.851064</td>\n",
       "      <td>0.848639</td>\n",
       "    </tr>\n",
       "  </tbody>\n",
       "</table>\n",
       "</div>"
      ],
      "text/plain": [
       "                        Model  Accuracy  Precision    Recall  F1-score  \\\n",
       "0               XGBClassifier  0.835165   0.826923  0.877551  0.851485   \n",
       "1          LogisticRegression  0.835165   0.826923  0.877551  0.851485   \n",
       "2  GradientBoostingClassifier  0.846154   0.830189  0.897959  0.862745   \n",
       "3      RandomForestClassifier  0.824176   0.800000  0.897959  0.846154   \n",
       "4      DecisionTreeClassifier  0.769231   0.780000  0.795918  0.787879   \n",
       "5          AdaBoostClassifier  0.846154   0.888889  0.816327  0.851064   \n",
       "\n",
       "        AUC  \n",
       "0  0.831633  \n",
       "1  0.831633  \n",
       "2  0.841837  \n",
       "3  0.818027  \n",
       "4  0.767007  \n",
       "5  0.848639  "
      ]
     },
     "execution_count": 129,
     "metadata": {},
     "output_type": "execute_result"
    }
   ],
   "source": [
    "results_df = pd.DataFrame({\n",
    "    'Model': ['XGBClassifier', 'LogisticRegression', 'GradientBoostingClassifier', 'RandomForestClassifier', 'DecisionTreeClassifier', 'AdaBoostClassifier'],\n",
    "    'Accuracy': accuracy,\n",
    "    'Precision': precision,\n",
    "    'Recall': recall,\n",
    "    'F1-score': f1,\n",
    "    'AUC': auc\n",
    "})\n",
    "\n",
    "styled_df = results_df\n",
    "styled_df"
   ]
  },
  {
   "cell_type": "code",
   "execution_count": 130,
   "metadata": {
    "tags": []
   },
   "outputs": [
    {
     "name": "stdout",
     "output_type": "stream",
     "text": [
      "每個特徵被選擇的次數:\n",
      "cp: 6\n",
      "oldpeak: 6\n",
      "caa: 6\n",
      "thalachh: 5\n",
      "exng: 5\n",
      "slp: 5\n",
      "thall: 5\n",
      "age: 3\n",
      "sex: 3\n",
      "trtbps: 3\n",
      "chol: 2\n",
      "restecg: 2\n",
      "fbs: 1\n"
     ]
    }
   ],
   "source": [
    "sorted_feature_selection = feature_selection_count.most_common()\n",
    "print(\"每個特徵被選擇的次數:\")\n",
    "for feature, count in sorted_feature_selection:\n",
    "    print(f\"{feature}: {count}\")"
   ]
  }
 ],
 "metadata": {
  "colab": {
   "provenance": []
  },
  "kernelspec": {
   "display_name": "Python 3 (ipykernel)",
   "language": "python",
   "name": "python3"
  },
  "language_info": {
   "codemirror_mode": {
    "name": "ipython",
    "version": 3
   },
   "file_extension": ".py",
   "mimetype": "text/x-python",
   "name": "python",
   "nbconvert_exporter": "python",
   "pygments_lexer": "ipython3",
   "version": "3.11.3"
  }
 },
 "nbformat": 4,
 "nbformat_minor": 4
}
