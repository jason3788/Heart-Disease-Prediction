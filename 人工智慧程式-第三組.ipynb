{
 "cells": [
  {
   "cell_type": "code",
   "execution_count": 3,
   "metadata": {
    "id": "DhNkav1yixuF"
   },
   "outputs": [],
   "source": [
    "import pandas as pd\n",
    "import numpy as np\n",
    "import matplotlib.pyplot as plt\n",
    "import seaborn as sns\n",
    "import plotly.express as px\n",
    "import plotly.graph_objects as go\n",
    "from plotly.subplots import make_subplots\n",
    "from sklearn.pipeline import make_pipeline\n",
    "from sklearn.model_selection import train_test_split\n",
    "from sklearn.preprocessing import LabelEncoder\n",
    "from imblearn.over_sampling import SMOTE\n",
    "from imblearn.under_sampling import RandomUnderSampler\n",
    "from sklearn.feature_selection import SelectFromModel\n",
    "from sklearn.metrics import confusion_matrix\n",
    "from imblearn.under_sampling import RandomUnderSampler\n",
    "from sklearn.linear_model import LogisticRegression\n",
    "from xgboost import XGBClassifier\n",
    "from sklearn.model_selection import cross_val_score\n",
    "from sklearn.metrics import roc_auc_score\n",
    "from collections import Counter\n",
    "from sklearn.metrics import accuracy_score, precision_score, recall_score, f1_score"
   ]
  },
  {
   "cell_type": "code",
   "execution_count": 4,
   "metadata": {
    "colab": {
     "base_uri": "https://localhost:8080/",
     "height": 268
    },
    "id": "-So5Cefki9pL",
    "outputId": "65d923c0-3a91-4c22-8662-4f1f327c75d3"
   },
   "outputs": [
    {
     "data": {
      "text/html": [
       "<div>\n",
       "<style scoped>\n",
       "    .dataframe tbody tr th:only-of-type {\n",
       "        vertical-align: middle;\n",
       "    }\n",
       "\n",
       "    .dataframe tbody tr th {\n",
       "        vertical-align: top;\n",
       "    }\n",
       "\n",
       "    .dataframe thead th {\n",
       "        text-align: right;\n",
       "    }\n",
       "</style>\n",
       "<table border=\"1\" class=\"dataframe\">\n",
       "  <thead>\n",
       "    <tr style=\"text-align: right;\">\n",
       "      <th></th>\n",
       "      <th>age</th>\n",
       "      <th>sex</th>\n",
       "      <th>cp</th>\n",
       "      <th>trtbps</th>\n",
       "      <th>chol</th>\n",
       "      <th>fbs</th>\n",
       "      <th>restecg</th>\n",
       "      <th>thalachh</th>\n",
       "      <th>exng</th>\n",
       "      <th>oldpeak</th>\n",
       "      <th>slp</th>\n",
       "      <th>caa</th>\n",
       "      <th>thall</th>\n",
       "      <th>output</th>\n",
       "    </tr>\n",
       "  </thead>\n",
       "  <tbody>\n",
       "    <tr>\n",
       "      <th>0</th>\n",
       "      <td>63</td>\n",
       "      <td>1</td>\n",
       "      <td>3</td>\n",
       "      <td>145</td>\n",
       "      <td>233</td>\n",
       "      <td>1</td>\n",
       "      <td>0</td>\n",
       "      <td>150</td>\n",
       "      <td>0</td>\n",
       "      <td>2.3</td>\n",
       "      <td>0</td>\n",
       "      <td>0</td>\n",
       "      <td>1</td>\n",
       "      <td>1</td>\n",
       "    </tr>\n",
       "    <tr>\n",
       "      <th>1</th>\n",
       "      <td>37</td>\n",
       "      <td>1</td>\n",
       "      <td>2</td>\n",
       "      <td>130</td>\n",
       "      <td>250</td>\n",
       "      <td>0</td>\n",
       "      <td>1</td>\n",
       "      <td>187</td>\n",
       "      <td>0</td>\n",
       "      <td>3.5</td>\n",
       "      <td>0</td>\n",
       "      <td>0</td>\n",
       "      <td>2</td>\n",
       "      <td>1</td>\n",
       "    </tr>\n",
       "    <tr>\n",
       "      <th>2</th>\n",
       "      <td>41</td>\n",
       "      <td>0</td>\n",
       "      <td>1</td>\n",
       "      <td>130</td>\n",
       "      <td>204</td>\n",
       "      <td>0</td>\n",
       "      <td>0</td>\n",
       "      <td>172</td>\n",
       "      <td>0</td>\n",
       "      <td>1.4</td>\n",
       "      <td>2</td>\n",
       "      <td>0</td>\n",
       "      <td>2</td>\n",
       "      <td>1</td>\n",
       "    </tr>\n",
       "    <tr>\n",
       "      <th>3</th>\n",
       "      <td>56</td>\n",
       "      <td>1</td>\n",
       "      <td>1</td>\n",
       "      <td>120</td>\n",
       "      <td>236</td>\n",
       "      <td>0</td>\n",
       "      <td>1</td>\n",
       "      <td>178</td>\n",
       "      <td>0</td>\n",
       "      <td>0.8</td>\n",
       "      <td>2</td>\n",
       "      <td>0</td>\n",
       "      <td>2</td>\n",
       "      <td>1</td>\n",
       "    </tr>\n",
       "    <tr>\n",
       "      <th>4</th>\n",
       "      <td>57</td>\n",
       "      <td>0</td>\n",
       "      <td>0</td>\n",
       "      <td>120</td>\n",
       "      <td>354</td>\n",
       "      <td>0</td>\n",
       "      <td>1</td>\n",
       "      <td>163</td>\n",
       "      <td>1</td>\n",
       "      <td>0.6</td>\n",
       "      <td>2</td>\n",
       "      <td>0</td>\n",
       "      <td>2</td>\n",
       "      <td>1</td>\n",
       "    </tr>\n",
       "  </tbody>\n",
       "</table>\n",
       "</div>"
      ],
      "text/plain": [
       "   age  sex  cp  trtbps  chol  fbs  restecg  thalachh  exng  oldpeak  slp  \\\n",
       "0   63    1   3     145   233    1        0       150     0      2.3    0   \n",
       "1   37    1   2     130   250    0        1       187     0      3.5    0   \n",
       "2   41    0   1     130   204    0        0       172     0      1.4    2   \n",
       "3   56    1   1     120   236    0        1       178     0      0.8    2   \n",
       "4   57    0   0     120   354    0        1       163     1      0.6    2   \n",
       "\n",
       "   caa  thall  output  \n",
       "0    0      1       1  \n",
       "1    0      2       1  \n",
       "2    0      2       1  \n",
       "3    0      2       1  \n",
       "4    0      2       1  "
      ]
     },
     "execution_count": 4,
     "metadata": {},
     "output_type": "execute_result"
    }
   ],
   "source": [
    "data = pd.read_csv('heart_2020_cleaned.csv')\n",
    "data.head()"
   ]
  },
  {
   "cell_type": "code",
   "execution_count": 5,
   "metadata": {},
   "outputs": [
    {
     "data": {
      "text/plain": [
       "(303, 14)"
      ]
     },
     "execution_count": 5,
     "metadata": {},
     "output_type": "execute_result"
    }
   ],
   "source": [
    "data.shape"
   ]
  },
  {
   "cell_type": "code",
   "execution_count": 6,
   "metadata": {},
   "outputs": [
    {
     "data": {
      "text/plain": [
       "1"
      ]
     },
     "execution_count": 6,
     "metadata": {},
     "output_type": "execute_result"
    }
   ],
   "source": [
    "data.duplicated().sum()"
   ]
  },
  {
   "cell_type": "code",
   "execution_count": 7,
   "metadata": {},
   "outputs": [],
   "source": [
    "data = data.drop_duplicates().reset_index(drop=True)"
   ]
  },
  {
   "cell_type": "code",
   "execution_count": 8,
   "metadata": {
    "colab": {
     "base_uri": "https://localhost:8080/"
    },
    "id": "fo_7_JBC461T",
    "outputId": "0c052036-d9dc-4c58-cee4-2b3e81f0aafc"
   },
   "outputs": [
    {
     "data": {
      "text/plain": [
       "age         0\n",
       "sex         0\n",
       "cp          0\n",
       "trtbps      0\n",
       "chol        0\n",
       "fbs         0\n",
       "restecg     0\n",
       "thalachh    0\n",
       "exng        0\n",
       "oldpeak     0\n",
       "slp         0\n",
       "caa         0\n",
       "thall       0\n",
       "output      0\n",
       "dtype: int64"
      ]
     },
     "execution_count": 8,
     "metadata": {},
     "output_type": "execute_result"
    }
   ],
   "source": [
    "data.isna().sum()"
   ]
  },
  {
   "cell_type": "code",
   "execution_count": 9,
   "metadata": {
    "colab": {
     "base_uri": "https://localhost:8080/"
    },
    "id": "yIJ5sp27BCaO",
    "outputId": "061fe82e-b002-48e7-8f1d-831492e6b9b2"
   },
   "outputs": [
    {
     "name": "stdout",
     "output_type": "stream",
     "text": [
      "age\n",
      "[63 37 41 56 57 44 52 54 48 49 64 58 50 66 43 69 59 42 61 40 71 51 65 53\n",
      " 46 45 39 47 62 34 35 29 55 60 67 68 74 76 70 38 77] \n",
      "\n",
      "sex\n",
      "[1 0] \n",
      "\n",
      "cp\n",
      "[3 2 1 0] \n",
      "\n",
      "trtbps\n",
      "[145 130 120 140 172 150 110 135 160 105 125 142 155 104 138 128 108 134\n",
      " 122 115 118 100 124  94 112 102 152 101 132 148 178 129 180 136 126 106\n",
      " 156 170 146 117 200 165 174 192 144 123 154 114 164] \n",
      "\n",
      "chol\n",
      "[233 250 204 236 354 192 294 263 199 168 239 275 266 211 283 219 340 226\n",
      " 247 234 243 302 212 175 417 197 198 177 273 213 304 232 269 360 308 245\n",
      " 208 264 321 325 235 257 216 256 231 141 252 201 222 260 182 303 265 309\n",
      " 186 203 183 220 209 258 227 261 221 205 240 318 298 564 277 214 248 255\n",
      " 207 223 288 160 394 315 246 244 270 195 196 254 126 313 262 215 193 271\n",
      " 268 267 210 295 306 178 242 180 228 149 278 253 342 157 286 229 284 224\n",
      " 206 167 230 335 276 353 225 330 290 172 305 188 282 185 326 274 164 307\n",
      " 249 341 407 217 174 281 289 322 299 300 293 184 409 259 200 327 237 218\n",
      " 319 166 311 169 187 176 241 131] \n",
      "\n",
      "fbs\n",
      "[1 0] \n",
      "\n",
      "restecg\n",
      "[0 1 2] \n",
      "\n",
      "thalachh\n",
      "[150 187 172 178 163 148 153 173 162 174 160 139 171 144 158 114 151 161\n",
      " 179 137 157 123 152 168 140 188 125 170 165 142 180 143 182 156 115 149\n",
      " 146 175 186 185 159 130 190 132 147 154 202 166 164 184 122 169 138 111\n",
      " 145 194 131 133 155 167 192 121  96 126 105 181 116 108 129 120 112 128\n",
      " 109 113  99 177 141 136  97 127 103 124  88 195 106  95 117  71 118 134\n",
      "  90] \n",
      "\n",
      "exng\n",
      "[0 1] \n",
      "\n",
      "oldpeak\n",
      "[2.3 3.5 1.4 0.8 0.6 0.4 1.3 0.  0.5 1.6 1.2 0.2 1.8 1.  2.6 1.5 3.  2.4\n",
      " 0.1 1.9 4.2 1.1 2.  0.7 0.3 0.9 3.6 3.1 3.2 2.5 2.2 2.8 3.4 6.2 4.  5.6\n",
      " 2.9 2.1 3.8 4.4] \n",
      "\n",
      "slp\n",
      "[0 2 1] \n",
      "\n",
      "caa\n",
      "[0 2 1 3 4] \n",
      "\n",
      "thall\n",
      "[1 2 3 0] \n",
      "\n",
      "output\n",
      "[1 0] \n",
      "\n"
     ]
    }
   ],
   "source": [
    "for feature in data.columns:  \n",
    "    print(feature)\n",
    "    print(data[feature].unique(),\"\\n\") "
   ]
  },
  {
   "cell_type": "code",
   "execution_count": 10,
   "metadata": {
    "colab": {
     "base_uri": "https://localhost:8080/"
    },
    "id": "BRCI_TtRc0Vv",
    "outputId": "13875ef6-515d-4c46-cc3b-d857e7f4e1ea"
   },
   "outputs": [
    {
     "name": "stdout",
     "output_type": "stream",
     "text": [
      "<class 'pandas.core.frame.DataFrame'>\n",
      "RangeIndex: 302 entries, 0 to 301\n",
      "Data columns (total 14 columns):\n",
      " #   Column    Non-Null Count  Dtype  \n",
      "---  ------    --------------  -----  \n",
      " 0   age       302 non-null    int64  \n",
      " 1   sex       302 non-null    int64  \n",
      " 2   cp        302 non-null    int64  \n",
      " 3   trtbps    302 non-null    int64  \n",
      " 4   chol      302 non-null    int64  \n",
      " 5   fbs       302 non-null    int64  \n",
      " 6   restecg   302 non-null    int64  \n",
      " 7   thalachh  302 non-null    int64  \n",
      " 8   exng      302 non-null    int64  \n",
      " 9   oldpeak   302 non-null    float64\n",
      " 10  slp       302 non-null    int64  \n",
      " 11  caa       302 non-null    int64  \n",
      " 12  thall     302 non-null    int64  \n",
      " 13  output    302 non-null    int64  \n",
      "dtypes: float64(1), int64(13)\n",
      "memory usage: 33.2 KB\n"
     ]
    }
   ],
   "source": [
    "data.info()"
   ]
  },
  {
   "cell_type": "code",
   "execution_count": 11,
   "metadata": {},
   "outputs": [
    {
     "ename": "KeyError",
     "evalue": "'HeartDisease'",
     "output_type": "error",
     "traceback": [
      "\u001b[1;31m---------------------------------------------------------------------------\u001b[0m",
      "\u001b[1;31mKeyError\u001b[0m                                  Traceback (most recent call last)",
      "File \u001b[1;32m~\\anaconda3\\Lib\\site-packages\\pandas\\core\\indexes\\base.py:3802\u001b[0m, in \u001b[0;36mIndex.get_loc\u001b[1;34m(self, key, method, tolerance)\u001b[0m\n\u001b[0;32m   3801\u001b[0m \u001b[38;5;28;01mtry\u001b[39;00m:\n\u001b[1;32m-> 3802\u001b[0m     \u001b[38;5;28;01mreturn\u001b[39;00m \u001b[38;5;28mself\u001b[39m\u001b[38;5;241m.\u001b[39m_engine\u001b[38;5;241m.\u001b[39mget_loc(casted_key)\n\u001b[0;32m   3803\u001b[0m \u001b[38;5;28;01mexcept\u001b[39;00m \u001b[38;5;167;01mKeyError\u001b[39;00m \u001b[38;5;28;01mas\u001b[39;00m err:\n",
      "File \u001b[1;32m~\\anaconda3\\Lib\\site-packages\\pandas\\_libs\\index.pyx:138\u001b[0m, in \u001b[0;36mpandas._libs.index.IndexEngine.get_loc\u001b[1;34m()\u001b[0m\n",
      "File \u001b[1;32m~\\anaconda3\\Lib\\site-packages\\pandas\\_libs\\index.pyx:165\u001b[0m, in \u001b[0;36mpandas._libs.index.IndexEngine.get_loc\u001b[1;34m()\u001b[0m\n",
      "File \u001b[1;32mpandas\\_libs\\hashtable_class_helper.pxi:5745\u001b[0m, in \u001b[0;36mpandas._libs.hashtable.PyObjectHashTable.get_item\u001b[1;34m()\u001b[0m\n",
      "File \u001b[1;32mpandas\\_libs\\hashtable_class_helper.pxi:5753\u001b[0m, in \u001b[0;36mpandas._libs.hashtable.PyObjectHashTable.get_item\u001b[1;34m()\u001b[0m\n",
      "\u001b[1;31mKeyError\u001b[0m: 'HeartDisease'",
      "\nThe above exception was the direct cause of the following exception:\n",
      "\u001b[1;31mKeyError\u001b[0m                                  Traceback (most recent call last)",
      "Cell \u001b[1;32mIn[11], line 4\u001b[0m\n\u001b[0;32m      1\u001b[0m binary_columns \u001b[38;5;241m=\u001b[39m [\u001b[38;5;124m'\u001b[39m\u001b[38;5;124mHeartDisease\u001b[39m\u001b[38;5;124m'\u001b[39m, \u001b[38;5;124m'\u001b[39m\u001b[38;5;124mSmoking\u001b[39m\u001b[38;5;124m'\u001b[39m, \u001b[38;5;124m'\u001b[39m\u001b[38;5;124mAlcoholDrinking\u001b[39m\u001b[38;5;124m'\u001b[39m, \u001b[38;5;124m'\u001b[39m\u001b[38;5;124mStroke\u001b[39m\u001b[38;5;124m'\u001b[39m, \u001b[38;5;124m'\u001b[39m\u001b[38;5;124mDiffWalking\u001b[39m\u001b[38;5;124m'\u001b[39m, \n\u001b[0;32m      2\u001b[0m           \u001b[38;5;124m'\u001b[39m\u001b[38;5;124mPhysicalActivity\u001b[39m\u001b[38;5;124m'\u001b[39m, \u001b[38;5;124m'\u001b[39m\u001b[38;5;124mAsthma\u001b[39m\u001b[38;5;124m'\u001b[39m, \u001b[38;5;124m'\u001b[39m\u001b[38;5;124mKidneyDisease\u001b[39m\u001b[38;5;124m'\u001b[39m, \u001b[38;5;124m'\u001b[39m\u001b[38;5;124mSkinCancer\u001b[39m\u001b[38;5;124m'\u001b[39m]\n\u001b[0;32m      3\u001b[0m \u001b[38;5;28;01mfor\u001b[39;00m column \u001b[38;5;129;01min\u001b[39;00m binary_columns:\n\u001b[1;32m----> 4\u001b[0m     data[column] \u001b[38;5;241m=\u001b[39m data[column]\u001b[38;5;241m.\u001b[39mreplace({\u001b[38;5;124m'\u001b[39m\u001b[38;5;124mNo\u001b[39m\u001b[38;5;124m'\u001b[39m: \u001b[38;5;241m0\u001b[39m, \u001b[38;5;124m'\u001b[39m\u001b[38;5;124mYes\u001b[39m\u001b[38;5;124m'\u001b[39m: \u001b[38;5;241m1\u001b[39m})\n",
      "File \u001b[1;32m~\\anaconda3\\Lib\\site-packages\\pandas\\core\\frame.py:3807\u001b[0m, in \u001b[0;36mDataFrame.__getitem__\u001b[1;34m(self, key)\u001b[0m\n\u001b[0;32m   3805\u001b[0m \u001b[38;5;28;01mif\u001b[39;00m \u001b[38;5;28mself\u001b[39m\u001b[38;5;241m.\u001b[39mcolumns\u001b[38;5;241m.\u001b[39mnlevels \u001b[38;5;241m>\u001b[39m \u001b[38;5;241m1\u001b[39m:\n\u001b[0;32m   3806\u001b[0m     \u001b[38;5;28;01mreturn\u001b[39;00m \u001b[38;5;28mself\u001b[39m\u001b[38;5;241m.\u001b[39m_getitem_multilevel(key)\n\u001b[1;32m-> 3807\u001b[0m indexer \u001b[38;5;241m=\u001b[39m \u001b[38;5;28mself\u001b[39m\u001b[38;5;241m.\u001b[39mcolumns\u001b[38;5;241m.\u001b[39mget_loc(key)\n\u001b[0;32m   3808\u001b[0m \u001b[38;5;28;01mif\u001b[39;00m is_integer(indexer):\n\u001b[0;32m   3809\u001b[0m     indexer \u001b[38;5;241m=\u001b[39m [indexer]\n",
      "File \u001b[1;32m~\\anaconda3\\Lib\\site-packages\\pandas\\core\\indexes\\base.py:3804\u001b[0m, in \u001b[0;36mIndex.get_loc\u001b[1;34m(self, key, method, tolerance)\u001b[0m\n\u001b[0;32m   3802\u001b[0m     \u001b[38;5;28;01mreturn\u001b[39;00m \u001b[38;5;28mself\u001b[39m\u001b[38;5;241m.\u001b[39m_engine\u001b[38;5;241m.\u001b[39mget_loc(casted_key)\n\u001b[0;32m   3803\u001b[0m \u001b[38;5;28;01mexcept\u001b[39;00m \u001b[38;5;167;01mKeyError\u001b[39;00m \u001b[38;5;28;01mas\u001b[39;00m err:\n\u001b[1;32m-> 3804\u001b[0m     \u001b[38;5;28;01mraise\u001b[39;00m \u001b[38;5;167;01mKeyError\u001b[39;00m(key) \u001b[38;5;28;01mfrom\u001b[39;00m \u001b[38;5;21;01merr\u001b[39;00m\n\u001b[0;32m   3805\u001b[0m \u001b[38;5;28;01mexcept\u001b[39;00m \u001b[38;5;167;01mTypeError\u001b[39;00m:\n\u001b[0;32m   3806\u001b[0m     \u001b[38;5;66;03m# If we have a listlike key, _check_indexing_error will raise\u001b[39;00m\n\u001b[0;32m   3807\u001b[0m     \u001b[38;5;66;03m#  InvalidIndexError. Otherwise we fall through and re-raise\u001b[39;00m\n\u001b[0;32m   3808\u001b[0m     \u001b[38;5;66;03m#  the TypeError.\u001b[39;00m\n\u001b[0;32m   3809\u001b[0m     \u001b[38;5;28mself\u001b[39m\u001b[38;5;241m.\u001b[39m_check_indexing_error(key)\n",
      "\u001b[1;31mKeyError\u001b[0m: 'HeartDisease'"
     ]
    }
   ],
   "source": [
    "binary_columns = ['HeartDisease', 'Smoking', 'AlcoholDrinking', 'Stroke', 'DiffWalking', \n",
    "          'PhysicalActivity', 'Asthma', 'KidneyDisease', 'SkinCancer']\n",
    "for column in binary_columns:\n",
    "    data[column] = data[column].replace({'No': 0, 'Yes': 1})"
   ]
  },
  {
   "cell_type": "code",
   "execution_count": null,
   "metadata": {},
   "outputs": [],
   "source": [
    "def convert_range_to_mean(range_str):\n",
    "    if 'or older' in range_str:\n",
    "        return int(range_str.split()[0])\n",
    "    else:\n",
    "        range_values = range_str.split('-')\n",
    "        return (int(range_values[0]) + int(range_values[1])) / 2\n",
    "\n",
    "data['AgeCategory'] = data['AgeCategory'].apply(convert_range_to_mean)"
   ]
  },
  {
   "cell_type": "code",
   "execution_count": null,
   "metadata": {
    "id": "hbvhc6m_R9dU"
   },
   "outputs": [],
   "source": [
    "from sklearn.preprocessing import MinMaxScaler\n",
    "data_numeric_columns = ['BMI', 'PhysicalHealth', 'MentalHealth', 'SleepTime','AgeCategory']\n",
    "scaler = MinMaxScaler()\n",
    "data[data_numeric_columns] = scaler.fit_transform(data[data_numeric_columns])"
   ]
  },
  {
   "cell_type": "code",
   "execution_count": null,
   "metadata": {},
   "outputs": [],
   "source": [
    "GenHealth_mapping = {'Poor': 1, 'Fair': 2, 'Good': 3, 'Very good': 4, 'Excellent': 5}\n",
    "data['GenHealth'] = data['GenHealth'].map(GenHealth_mapping)"
   ]
  },
  {
   "cell_type": "code",
   "execution_count": null,
   "metadata": {},
   "outputs": [],
   "source": [
    "cols = ['Diabetic','Sex', 'Race']\n",
    "data[cols] = data[cols].apply(LabelEncoder().fit_transform)"
   ]
  },
  {
   "cell_type": "code",
   "execution_count": null,
   "metadata": {
    "colab": {
     "base_uri": "https://localhost:8080/",
     "height": 491
    },
    "id": "UjUvR05BqxdG",
    "outputId": "5292073a-4efa-456e-8a52-8374fc6ab0ca"
   },
   "outputs": [],
   "source": [
    "data.head(10)"
   ]
  },
  {
   "cell_type": "code",
   "execution_count": null,
   "metadata": {},
   "outputs": [],
   "source": [
    "x = data.drop('HeartDisease', axis=1).values\n",
    "y = data['HeartDisease'].values"
   ]
  },
  {
   "cell_type": "code",
   "execution_count": null,
   "metadata": {},
   "outputs": [],
   "source": [
    "labels = ['0=Non Heart Disease', '1=Heart Disease']\n",
    "colors = ['royalblue','red']\n",
    "values = np.bincount(y.astype(int)).tolist()\n",
    "fig = go.Figure(data=[go.Pie(labels=labels, values=values, hole=0.5)])\n",
    "fig.update_traces(hoverinfo='label+value', textfont_size=15, marker=dict(colors=colors))\n",
    "fig.update_layout(annotations=[dict(text='HeartDisease', x=0.5, y=0.5, font_size=15, showarrow=False)])\n",
    "fig.show()"
   ]
  },
  {
   "cell_type": "code",
   "execution_count": null,
   "metadata": {},
   "outputs": [],
   "source": [
    "print(\"採樣前資料分布:\")\n",
    "print(data['HeartDisease'].value_counts())"
   ]
  },
  {
   "cell_type": "code",
   "execution_count": null,
   "metadata": {
    "tags": []
   },
   "outputs": [],
   "source": [
    "from imblearn.over_sampling import RandomOverSampler\n",
    "sm = RandomOverSampler(random_state=42)\n",
    "x_resampled, y_resampled = sm.fit_resample(x, y)"
   ]
  },
  {
   "cell_type": "code",
   "execution_count": null,
   "metadata": {
    "tags": []
   },
   "outputs": [],
   "source": [
    "labels = ['0=Non Heart Disease', '1=Heart Disease']\n",
    "values = np.bincount(y_resampled.astype(int)).tolist()\n",
    "fig = go.Figure(data=[go.Pie(labels=labels, values=values, hole=0.5)])\n",
    "fig.update_traces(hoverinfo='label+value', textfont_size=15, marker=dict(colors=colors))\n",
    "fig.update_layout(annotations=[dict(text='HeartDisease', x=0.5, y=0.5, font_size=15, showarrow=False)])\n",
    "fig.show()"
   ]
  },
  {
   "cell_type": "code",
   "execution_count": null,
   "metadata": {},
   "outputs": [],
   "source": [
    "print(\"採樣後資料分布:\")\n",
    "print(pd.Series(y_resampled).value_counts())"
   ]
  },
  {
   "cell_type": "code",
   "execution_count": null,
   "metadata": {},
   "outputs": [],
   "source": [
    "x_train, x_test, y_train, y_test = train_test_split(x_resampled, y_resampled, test_size=0.3, random_state=42)\n",
    "\n",
    "combined_train_df = pd.concat([pd.DataFrame(y_train), pd.DataFrame(x_train)], axis=1)\n",
    "combined_test_df = pd.concat([pd.DataFrame(y_test), pd.DataFrame(x_test)], axis=1)\n",
    "\n",
    "\n",
    "\n",
    "columns = ['HeartDisease', 'BMI', 'Smoking', 'AlcoholDrinking', 'Stroke', \n",
    "           'PhysicalHealth', 'MentalHealth', 'DiffWalking', 'Sex', 'AgeCategory', \n",
    "           'Race', 'Diabetic', 'PhysicalActivity', 'GenHealth', 'SleepTime', \n",
    "           'Asthma', 'KidneyDisease', 'SkinCancer']\n",
    "\n",
    "combined_train_df.columns = columns\n",
    "combined_test_df.columns = columns\n",
    "\n",
    "combined_train_df.to_csv('combined_train_data.csv', index=False, columns=columns)\n",
    "combined_test_df.to_csv('combined_test_data.csv', index=False, columns=columns)"
   ]
  },
  {
   "cell_type": "code",
   "execution_count": null,
   "metadata": {},
   "outputs": [],
   "source": [
    "from sklearn.metrics import matthews_corrcoef\n",
    "cols = data.columns\n",
    "corr = []\n",
    "for col in cols:\n",
    "    if col in binary_columns:\n",
    "        corr.append(matthews_corrcoef(data['HeartDisease'], data[col]))\n",
    "    else:\n",
    "        corr.append(data['HeartDisease'].corr(data[col]))\n",
    "correlation = pd.DataFrame(list(zip(cols, corr)), columns=['Variables','Corr_with_HeartDisease'])\n",
    "correlation.drop(index=correlation.index[:1], axis=0, inplace=True)\n",
    "correlation"
   ]
  },
  {
   "cell_type": "code",
   "execution_count": null,
   "metadata": {},
   "outputs": [],
   "source": [
    "correlation['colors'] = ['#F0073B' if float(x) <= 0 else '#CB3579' for x in correlation['Corr_with_HeartDisease']]\n",
    "correlation = correlation.sort_values(ascending=True, by=['Corr_with_HeartDisease']) \n",
    "plt.figure(figsize=(14,10), dpi=80)\n",
    "plt.hlines(y=correlation.Variables, xmin=0, xmax=correlation.Corr_with_HeartDisease, color=correlation.colors,  linewidth=5)\n",
    "plt.grid()\n",
    "plt.show()"
   ]
  },
  {
   "cell_type": "code",
   "execution_count": null,
   "metadata": {},
   "outputs": [],
   "source": [
    "accuracy = []\n",
    "precision = []\n",
    "recall = []\n",
    "f1 = []\n",
    "auc = []\n",
    "feature_selection_count = Counter()\n",
    "\n",
    "def evaluate_model(model, y_true, y_pred):\n",
    "    accuracy.append(accuracy_score(y_true, y_pred))\n",
    "    precision.append(precision_score(y_true, y_pred))\n",
    "    recall.append(recall_score(y_true, y_pred))\n",
    "    f1.append(f1_score(y_true, y_pred))\n",
    "    auc.append(roc_auc_score(y_true, y_pred))"
   ]
  },
  {
   "cell_type": "code",
   "execution_count": null,
   "metadata": {},
   "outputs": [],
   "source": [
    "xgb = XGBClassifier(n_estimators= 50 , max_depth= 3 , learning_rate = 0.1)\n",
    "\n",
    "max_features_range = range(1, 18)\n",
    "best_max_features = None\n",
    "best_score = 0\n",
    "\n",
    "\n",
    "for max_features in max_features_range:\n",
    "    selector = SelectFromModel(estimator=xgb, threshold=-np.inf, max_features=max_features)\n",
    "    selector.fit(x_train, y_train)\n",
    "    x_train_selected = selector.transform(x_train)\n",
    "    \n",
    "    scores = cross_val_score(XGBClassifier(n_estimators= 50 , max_depth= 3 , learning_rate = 0.1), \n",
    "                             x_train_selected, y_train, cv=5, scoring='balanced_accuracy')\n",
    "    mean_score = scores.mean()\n",
    "    print(max_features,'features',' = ',mean_score)\n",
    "    if mean_score > best_score:\n",
    "        best_score = mean_score\n",
    "        best_max_features = max_features\n",
    "\n",
    "print(\"最佳的 max_features 值:\", best_max_features)\n",
    "print(\"對應的交叉驗證分數:\", best_score)\n",
    "\n",
    "\n",
    "selector = SelectFromModel(estimator=xgb, threshold=-np.inf, max_features=best_max_features)\n",
    "selector.fit(x_train, y_train)\n",
    "\n",
    "\n",
    "print()\n",
    "\n",
    "selected_features = np.array(data.drop('HeartDisease', axis=1).columns)[selector.get_support()]\n",
    "feature_selection_count.update(selected_features)\n",
    "print(\"選擇的特徵:\", selected_features)\n",
    "\n",
    "print()\n",
    "\n",
    "x_train_selected = selector.transform(x_train)\n",
    "x_test_selected = selector.transform(x_test)\n",
    "\n",
    "xgb.fit(x_train_selected, y_train)\n",
    "\n",
    "\n",
    "y_pred_prob = xgb.predict_proba(x_test_selected)[:, 1]\n",
    "threshold = 0.45\n",
    "y_pred = (y_pred_prob >= threshold).astype(int)\n",
    "\n",
    "evaluate_model(xgb, y_test, y_pred)\n",
    "print(f'Accuracy_score: {accuracy_score(y_test, y_pred)}')\n",
    "print(f'Precision_score: {precision_score(y_test, y_pred)}')\n",
    "print(f'Recall_score: {recall_score(y_test, y_pred)}')\n",
    "print(f'F1-score: {f1_score(y_test, y_pred)}')\n",
    "\n",
    "print()\n",
    "\n",
    "cm = confusion_matrix(y_test, y_pred)\n",
    "plt.figure(figsize=(7,5))\n",
    "plt.title('XGBClassifier')\n",
    "ax = sns.heatmap(cm/np.sum(cm),fmt='.2%', annot=True, cmap='Blues')\n",
    "ax.set_xlabel('\\nPredicted Values')\n",
    "ax.set_ylabel('Actual Values ');\n",
    "ax.xaxis.set_ticklabels(['No HeartDisease','HeartDisease'],fontsize = 15)\n",
    "ax.yaxis.set_ticklabels(['No HeartDisease','HeartDisease'],fontsize = 15)\n",
    "plt.show()"
   ]
  },
  {
   "cell_type": "code",
   "execution_count": null,
   "metadata": {
    "tags": []
   },
   "outputs": [],
   "source": [
    "from sklearn.linear_model import LogisticRegression\n",
    "\n",
    "logreg = LogisticRegression(solver = \"liblinear\")\n",
    "\n",
    "best_max_features = None\n",
    "best_score = 0\n",
    "\n",
    "for max_features in max_features_range:\n",
    "    selector = SelectFromModel(estimator=logreg, threshold=-np.inf, max_features=max_features)\n",
    "    selector.fit(x_train, y_train)\n",
    "    x_train_selected = selector.transform(x_train)\n",
    "    \n",
    "    scores = cross_val_score(LogisticRegression(solver = \"liblinear\"), \n",
    "                             x_train_selected, y_train, cv=5, scoring='balanced_accuracy')\n",
    "    mean_score = scores.mean()\n",
    "    print(max_features,'features',' = ',mean_score)\n",
    "    if mean_score > best_score:\n",
    "        best_score = mean_score\n",
    "        best_max_features = max_features\n",
    "\n",
    "print(\"最佳的 max_features 值:\", best_max_features)\n",
    "print(\"對應的交叉驗證分數:\", best_score)\n",
    "\n",
    "\n",
    "selector = SelectFromModel(estimator=logreg, threshold=-np.inf, max_features=best_max_features)\n",
    "selector.fit(x_train, y_train)\n",
    "\n",
    "print()\n",
    "\n",
    "selected_features = np.array(data.drop('HeartDisease', axis=1).columns)[selector.get_support()]\n",
    "feature_selection_count.update(selected_features)\n",
    "print(\"選擇的特徵:\", selected_features)\n",
    "\n",
    "print()\n",
    "\n",
    "x_train_selected = selector.transform(x_train)\n",
    "x_test_selected = selector.transform(x_test)\n",
    "\n",
    "logreg.fit(x_train_selected, y_train)\n",
    "\n",
    "\n",
    "y_pred_prob = logreg.predict_proba(x_test_selected)[:, 1]\n",
    "threshold = 0.4\n",
    "y_pred = (y_pred_prob >= threshold).astype(int)\n",
    "\n",
    "evaluate_model(logreg, y_test, y_pred)\n",
    "print(f'Accuracy_score: {accuracy_score(y_test, y_pred)}')\n",
    "print(f'Precision_score: {precision_score(y_test, y_pred)}')\n",
    "print(f'Recall_score: {recall_score(y_test, y_pred)}')\n",
    "print(f'F1-score: {f1_score(y_test, y_pred)}')\n",
    "\n",
    "print()\n",
    "\n",
    "cm = confusion_matrix(y_test, y_pred)\n",
    "plt.figure(figsize=(7,5))\n",
    "plt.title('LogisticRegression')\n",
    "ax = sns.heatmap(cm/np.sum(cm),fmt='.2%', annot=True, cmap='Blues')\n",
    "ax.set_xlabel('\\nPredicted Values')\n",
    "ax.set_ylabel('Actual Values ');\n",
    "ax.xaxis.set_ticklabels(['No HeartDisease','HeartDisease'],fontsize = 15)\n",
    "ax.yaxis.set_ticklabels(['No HeartDisease','HeartDisease'],fontsize = 15)\n",
    "plt.show()"
   ]
  },
  {
   "cell_type": "code",
   "execution_count": null,
   "metadata": {
    "tags": []
   },
   "outputs": [],
   "source": [
    "from sklearn.ensemble import GradientBoostingClassifier\n",
    "\n",
    "gbc = GradientBoostingClassifier(n_estimators=50,max_depth = 3)\n",
    "\n",
    "best_max_features = None\n",
    "best_score = 0\n",
    "\n",
    "for max_features in max_features_range:\n",
    "    selector = SelectFromModel(estimator=gbc, threshold=-np.inf, max_features=max_features)\n",
    "    selector.fit(x_train, y_train)\n",
    "    x_train_selected = selector.transform(x_train)\n",
    "\n",
    "    scores = cross_val_score(GradientBoostingClassifier(n_estimators=50,max_depth = 3), \n",
    "                             x_train_selected, y_train, cv=5, scoring='balanced_accuracy')\n",
    "    mean_score = scores.mean()\n",
    "    print(max_features,'features',' = ',mean_score)\n",
    "    if mean_score > best_score:\n",
    "        best_score = mean_score\n",
    "        best_max_features = max_features\n",
    "\n",
    "print(\"最佳的 max_features 值:\", best_max_features)\n",
    "print(\"對應的交叉驗證分數:\", best_score)\n",
    "\n",
    "\n",
    "selector = SelectFromModel(estimator=gbc, threshold=-np.inf, max_features=best_max_features)\n",
    "selector.fit(x_train, y_train)\n",
    "\n",
    "print()\n",
    "\n",
    "selected_features = np.array(data.drop('HeartDisease', axis=1).columns)[selector.get_support()]\n",
    "feature_selection_count.update(selected_features)\n",
    "print(\"選擇的特徵:\", selected_features)\n",
    "\n",
    "print()\n",
    "\n",
    "x_train_selected = selector.transform(x_train)\n",
    "x_test_selected = selector.transform(x_test)\n",
    "\n",
    "gbc.fit(x_train_selected, y_train)\n",
    "\n",
    "\n",
    "y_pred_prob = gbc.predict_proba(x_test_selected)[:, 1]\n",
    "threshold = 0.4\n",
    "y_pred = (y_pred_prob >= threshold).astype(int)\n",
    "\n",
    "evaluate_model(gbc, y_test, y_pred)\n",
    "print(f'Accuracy_score: {accuracy_score(y_test, y_pred)}')\n",
    "print(f'Precision_score: {precision_score(y_test, y_pred)}')\n",
    "print(f'Recall_score: {recall_score(y_test, y_pred)}')\n",
    "print(f'F1-score: {f1_score(y_test, y_pred)}')\n",
    "\n",
    "print()\n",
    "\n",
    "cm = confusion_matrix(y_test, y_pred)\n",
    "plt.figure(figsize=(7,5))\n",
    "plt.title('GradientBoostingClassifier')\n",
    "ax = sns.heatmap(cm/np.sum(cm),fmt='.2%', annot=True, cmap='Blues')\n",
    "ax.set_xlabel('\\nPredicted Values')\n",
    "ax.set_ylabel('Actual Values ');\n",
    "ax.xaxis.set_ticklabels(['No HeartDisease','HeartDisease'],fontsize = 15)\n",
    "ax.yaxis.set_ticklabels(['No HeartDisease','HeartDisease'],fontsize = 15)\n",
    "plt.show()"
   ]
  },
  {
   "cell_type": "code",
   "execution_count": null,
   "metadata": {
    "tags": []
   },
   "outputs": [],
   "source": [
    "from sklearn.ensemble import RandomForestClassifier\n",
    "\n",
    "rfc = RandomForestClassifier(n_estimators=50,max_depth = 3)\n",
    "\n",
    "best_max_features = None\n",
    "best_score = 0\n",
    "\n",
    "for max_features in max_features_range:\n",
    "    selector = SelectFromModel(estimator=rfc, threshold=-np.inf, max_features=max_features)\n",
    "    selector.fit(x_train, y_train)\n",
    "    x_train_selected = selector.transform(x_train)\n",
    "    \n",
    "    scores = cross_val_score(RandomForestClassifier(n_estimators=50,max_depth = 3), \n",
    "                             x_train_selected, y_train, cv=5, scoring='balanced_accuracy')\n",
    "    mean_score = scores.mean()\n",
    "    print(max_features,'features',' = ',mean_score)\n",
    "    if mean_score > best_score:\n",
    "        best_score = mean_score\n",
    "        best_max_features = max_features\n",
    "\n",
    "print(\"最佳的 max_features 值:\", best_max_features)\n",
    "print(\"對應的交叉驗證分數:\", best_score)\n",
    "\n",
    "\n",
    "selector = SelectFromModel(estimator=rfc, threshold=-np.inf, max_features=best_max_features)\n",
    "selector.fit(x_train, y_train)\n",
    "\n",
    "print()\n",
    "\n",
    "selected_features = np.array(data.drop('HeartDisease', axis=1).columns)[selector.get_support()]\n",
    "feature_selection_count.update(selected_features)\n",
    "print(\"選擇的特徵:\", selected_features)\n",
    "\n",
    "print()\n",
    "\n",
    "x_train_selected = selector.transform(x_train)\n",
    "x_test_selected = selector.transform(x_test)\n",
    "\n",
    "rfc.fit(x_train_selected, y_train)\n",
    "\n",
    "\n",
    "y_pred_prob = rfc.predict_proba(x_test_selected)[:, 1]\n",
    "threshold = 0.47\n",
    "y_pred = (y_pred_prob >= threshold).astype(int)\n",
    "\n",
    "evaluate_model(rfc, y_test, y_pred)\n",
    "print(f'Accuracy_score: {accuracy_score(y_test, y_pred)}')\n",
    "print(f'Precision_score: {precision_score(y_test, y_pred)}')\n",
    "print(f'Recall_score: {recall_score(y_test, y_pred)}')\n",
    "print(f'F1-score: {f1_score(y_test, y_pred)}')\n",
    "\n",
    "print()\n",
    "\n",
    "cm = confusion_matrix(y_test, y_pred)\n",
    "plt.figure(figsize=(7,5))\n",
    "plt.title('RandomForestClassifier')\n",
    "ax = sns.heatmap(cm/np.sum(cm),fmt='.2%', annot=True, cmap='Blues')\n",
    "ax.set_xlabel('\\nPredicted Values')\n",
    "ax.set_ylabel('Actual Values ');\n",
    "ax.xaxis.set_ticklabels(['No HeartDisease','HeartDisease'],fontsize = 15)\n",
    "ax.yaxis.set_ticklabels(['No HeartDisease','HeartDisease'],fontsize = 15)\n",
    "plt.show()"
   ]
  },
  {
   "cell_type": "code",
   "execution_count": null,
   "metadata": {
    "tags": []
   },
   "outputs": [],
   "source": [
    "from sklearn.tree import DecisionTreeClassifier\n",
    "\n",
    "dtc =  DecisionTreeClassifier(max_depth= 8)\n",
    "\n",
    "best_max_features = None\n",
    "best_score = 0\n",
    "\n",
    "for max_features in max_features_range:\n",
    "    selector = SelectFromModel(estimator=dtc, threshold=-np.inf, max_features=max_features)\n",
    "    selector.fit(x_train, y_train)\n",
    "    x_train_selected = selector.transform(x_train)\n",
    "    \n",
    "    scores = cross_val_score(DecisionTreeClassifier(max_depth= 8), \n",
    "                             x_train_selected, y_train, cv=5, scoring='balanced_accuracy')\n",
    "    mean_score = scores.mean()\n",
    "    print(max_features,'features',' = ',mean_score)\n",
    "    if mean_score > best_score:\n",
    "        best_score = mean_score\n",
    "        best_max_features = max_features\n",
    "\n",
    "print(\"最佳的 max_features 值:\", best_max_features)\n",
    "print(\"對應的交叉驗證分數:\", best_score)\n",
    "\n",
    "\n",
    "selector = SelectFromModel(estimator=dtc, threshold=-np.inf, max_features=best_max_features)\n",
    "selector.fit(x_train, y_train)\n",
    "\n",
    "print()\n",
    "\n",
    "selected_features = np.array(data.drop('HeartDisease', axis=1).columns)[selector.get_support()]\n",
    "feature_selection_count.update(selected_features)\n",
    "print(\"選擇的特徵:\", selected_features)\n",
    "\n",
    "print()\n",
    "\n",
    "x_train_selected = selector.transform(x_train)\n",
    "x_test_selected = selector.transform(x_test)\n",
    "\n",
    "dtc.fit(x_train_selected, y_train)\n",
    "\n",
    "\n",
    "y_pred = dtc.predict(x_test_selected)\n",
    "evaluate_model(dtc, y_test, y_pred)\n",
    "print(f'Accuracy_score: {accuracy_score(y_test, y_pred)}')\n",
    "print(f'Precision_score: {precision_score(y_test, y_pred)}')\n",
    "print(f'Recall_score: {recall_score(y_test, y_pred)}')\n",
    "print(f'F1-score: {f1_score(y_test, y_pred)}')\n",
    "\n",
    "print()\n",
    "\n",
    "cm = confusion_matrix(y_test, y_pred)\n",
    "plt.figure(figsize=(7,5))\n",
    "plt.title('DecisionTreeClassifier')\n",
    "ax = sns.heatmap(cm/np.sum(cm),fmt='.2%', annot=True, cmap='Blues')\n",
    "ax.set_xlabel('\\nPredicted Values')\n",
    "ax.set_ylabel('Actual Values ');\n",
    "ax.xaxis.set_ticklabels(['No HeartDisease','HeartDisease'],fontsize = 15)\n",
    "ax.yaxis.set_ticklabels(['No HeartDisease','HeartDisease'],fontsize = 15)\n",
    "plt.show()"
   ]
  },
  {
   "cell_type": "code",
   "execution_count": null,
   "metadata": {
    "tags": []
   },
   "outputs": [],
   "source": [
    "from sklearn.ensemble import AdaBoostClassifier\n",
    "\n",
    "Ada = AdaBoostClassifier(n_estimators = 25)\n",
    "\n",
    "best_max_features = None\n",
    "best_score = 0\n",
    "\n",
    "for max_features in max_features_range:\n",
    "    selector = SelectFromModel(estimator=Ada, threshold=-np.inf, max_features=max_features)\n",
    "    selector.fit(x_train, y_train)\n",
    "    x_train_selected = selector.transform(x_train)\n",
    "    \n",
    "    scores = cross_val_score(AdaBoostClassifier(n_estimators = 25), \n",
    "                             x_train_selected, y_train, cv=5, scoring='balanced_accuracy')\n",
    "    mean_score = scores.mean()\n",
    "    print(max_features,'features',' = ',mean_score)\n",
    "    if mean_score > best_score:\n",
    "        best_score = mean_score\n",
    "        best_max_features = max_features\n",
    "\n",
    "print(\"最佳的 max_features 值:\", best_max_features)\n",
    "print(\"對應的交叉驗證分數:\", best_score)\n",
    "\n",
    "\n",
    "selector = SelectFromModel(estimator=Ada, threshold=-np.inf, max_features=best_max_features)\n",
    "selector.fit(x_train, y_train)\n",
    "\n",
    "print()\n",
    "\n",
    "selected_features = np.array(data.drop('HeartDisease', axis=1).columns)[selector.get_support()]\n",
    "feature_selection_count.update(selected_features)\n",
    "print(\"選擇的特徵:\", selected_features)\n",
    "\n",
    "print()\n",
    "\n",
    "x_train_selected = selector.transform(x_train)\n",
    "x_test_selected = selector.transform(x_test)\n",
    "\n",
    "Ada.fit(x_train_selected, y_train)\n",
    "\n",
    "\n",
    "y_pred_prob = Ada.predict_proba(x_test_selected)[:, 1]\n",
    "threshold = 0.498\n",
    "y_pred = (y_pred_prob >= threshold).astype(int)\n",
    "\n",
    "evaluate_model(Ada, y_test, y_pred)\n",
    "print(f'Accuracy_score: {accuracy_score(y_test, y_pred)}')\n",
    "print(f'Precision_score: {precision_score(y_test, y_pred)}')\n",
    "print(f'Recall_score: {recall_score(y_test, y_pred)}')\n",
    "print(f'F1-score: {f1_score(y_test, y_pred)}')\n",
    "\n",
    "print()\n",
    "\n",
    "cm = confusion_matrix(y_test, y_pred)\n",
    "plt.figure(figsize=(7,5))\n",
    "plt.title('AdaBoostClassifier')\n",
    "ax = sns.heatmap(cm/np.sum(cm),fmt='.2%', annot=True, cmap='Blues')\n",
    "ax.set_xlabel('\\nPredicted Values')\n",
    "ax.set_ylabel('Actual Values ');\n",
    "ax.xaxis.set_ticklabels(['No HeartDisease','HeartDisease'],fontsize = 15)\n",
    "ax.yaxis.set_ticklabels(['No HeartDisease','HeartDisease'],fontsize = 15)\n",
    "plt.show()"
   ]
  },
  {
   "cell_type": "code",
   "execution_count": null,
   "metadata": {
    "tags": []
   },
   "outputs": [],
   "source": [
    "results_df = pd.DataFrame({\n",
    "    'Model': ['XGBClassifier', 'LogisticRegression', 'GradientBoostingClassifier', 'RandomForestClassifier', 'DecisionTreeClassifier', 'AdaBoostClassifier'],\n",
    "    'Accuracy': accuracy,\n",
    "    'Precision': precision,\n",
    "    'Recall': recall,\n",
    "    'F1-score': f1,\n",
    "    'AUC': auc\n",
    "})\n",
    "\n",
    "styled_df = results_df\n",
    "styled_df"
   ]
  },
  {
   "cell_type": "code",
   "execution_count": null,
   "metadata": {
    "tags": []
   },
   "outputs": [],
   "source": [
    "sorted_feature_selection = feature_selection_count.most_common()\n",
    "print(\"每個特徵被選擇的次數:\")\n",
    "for feature, count in sorted_feature_selection:\n",
    "    print(f\"{feature}: {count}\")"
   ]
  }
 ],
 "metadata": {
  "colab": {
   "provenance": []
  },
  "kernelspec": {
   "display_name": "Python 3 (ipykernel)",
   "language": "python",
   "name": "python3"
  },
  "language_info": {
   "codemirror_mode": {
    "name": "ipython",
    "version": 3
   },
   "file_extension": ".py",
   "mimetype": "text/x-python",
   "name": "python",
   "nbconvert_exporter": "python",
   "pygments_lexer": "ipython3",
   "version": "3.11.3"
  }
 },
 "nbformat": 4,
 "nbformat_minor": 4
}
